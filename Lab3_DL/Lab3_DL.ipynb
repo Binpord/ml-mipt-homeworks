{
  "nbformat": 4,
  "nbformat_minor": 0,
  "metadata": {
    "colab": {
      "name": "Lab3_DL.ipynb",
      "version": "0.3.2",
      "provenance": [],
      "collapsed_sections": [],
      "toc_visible": true
    },
    "language_info": {
      "codemirror_mode": {
        "name": "ipython",
        "version": 3
      },
      "file_extension": ".py",
      "mimetype": "text/x-python",
      "name": "python",
      "nbconvert_exporter": "python",
      "pygments_lexer": "ipython3",
      "version": "3.7.3"
    },
    "kernelspec": {
      "name": "python3",
      "display_name": "Python 3"
    },
    "accelerator": "GPU"
  },
  "cells": [
    {
      "cell_type": "markdown",
      "metadata": {
        "id": "-cYGJHcTJUcQ",
        "colab_type": "text"
      },
      "source": [
        "## Лабораторная работа №3.\n",
        "\n",
        "Дедлайн: 21 мая 23:59"
      ]
    },
    {
      "cell_type": "markdown",
      "metadata": {
        "id": "13X25zCzJUcS",
        "colab_type": "text"
      },
      "source": [
        "### Часть 1. Overfit it (1.5 points)"
      ]
    },
    {
      "cell_type": "markdown",
      "metadata": {
        "id": "pcBdUSXhJUcU",
        "colab_type": "text"
      },
      "source": [
        "Будем работать с датасетом [Fashion-MNIST](https://github.com/zalandoresearch/fashion-mnist) (*hint: он доступен в torchvision*).\n",
        "\n",
        "Ваша задача состоит в следующем:\n",
        "1. Обучить сеть, которая покажет >= 0.94 test accuracy.\n",
        "2. Пронаблюдать и продемонстрировать процесс переобучения сети с увеличением числа параметров (==нейронов) и продемонстрировать это наглядно (например, на графиках).\n",
        "3. Попробовать частично справиться с переобучением с помощью подходящих приемов (Dropout/batchnorm/augmentation etc.)\n",
        "\n",
        "*Примечание*: Пункты 2 и 3 взаимосвязаны, в п.3 Вам прелагается сделать полученную в п.2 сеть менее склонной к переобучению. Пункт 1 является независимым от пунктов 2 и 3."
      ]
    },
    {
      "cell_type": "code",
      "metadata": {
        "ExecuteTime": {
          "end_time": "2019-05-20T11:01:55.029909Z",
          "start_time": "2019-05-20T11:01:54.903037Z"
        },
        "id": "-m_qnezSJUcW",
        "colab_type": "code",
        "colab": {}
      },
      "source": [
        "%matplotlib inline\n",
        "import matplotlib.pyplot as plt\n",
        "import string\n",
        "from IPython.display import clear_output\n",
        "import seaborn as sns\n",
        "import numpy as np\n",
        "\n",
        "import torch\n",
        "import torch.nn as nn\n",
        "import torch.nn.functional as F\n",
        "import torch.optim as optim\n",
        "\n",
        "from torchvision.datasets import FashionMNIST\n",
        "import torchvision.transforms as transforms\n",
        "\n",
        "sns.set()\n",
        "device = torch.device('cuda' if torch.cuda.is_available() else 'cpu')\n",
        "\n",
        "\n",
        "train = FashionMNIST(root='./data', download=True, train=True, transform=transforms.ToTensor())\n",
        "test = FashionMNIST(root='./data', download=True, train=False, transform=transforms.ToTensor())"
      ],
      "execution_count": 0,
      "outputs": []
    },
    {
      "cell_type": "code",
      "metadata": {
        "id": "Jr-NMcSXvDg7",
        "colab_type": "code",
        "colab": {}
      },
      "source": [
        "def train_epoch(model, criterion, optimizer, batch_size):\n",
        "    losses = []\n",
        "    model.train()\n",
        "    for data, label in torch.utils.data.DataLoader(train, batch_size=batch_size):\n",
        "        data, label = data.to(device), label.to(device)\n",
        "        pred = model(data)\n",
        "        loss = criterion(pred, label)\n",
        "        losses.append(loss.item())\n",
        "        \n",
        "        optimizer.zero_grad()\n",
        "        loss.backward()\n",
        "        optimizer.step()\n",
        "        \n",
        "    return np.mean(losses)\n",
        "        \n",
        "        \n",
        "def model_accuracy(model, dataset, criterion, batch_size):\n",
        "    model.eval()\n",
        "    correct, total = 0, 0\n",
        "    losses = []\n",
        "    for data, label in torch.utils.data.DataLoader(dataset, batch_size=batch_size):\n",
        "        data, label = data.to(device), label.to(device)\n",
        "        pred = model(data)\n",
        "        loss = criterion(pred, label)\n",
        "        _, pred_label = torch.max(pred.data, 1)\n",
        "        correct += (pred_label == label).sum().item()\n",
        "        total += label.shape[0]\n",
        "        \n",
        "    return correct / total"
      ],
      "execution_count": 0,
      "outputs": []
    },
    {
      "cell_type": "code",
      "metadata": {
        "ExecuteTime": {
          "end_time": "2019-05-20T11:01:55.761518Z",
          "start_time": "2019-05-20T11:01:55.750576Z"
        },
        "id": "KgT2LxWTJUcb",
        "colab_type": "code",
        "colab": {}
      },
      "source": [
        "# https://github.com/Xfan1025/Fashion-MNIST/blob/master/fashion-mnist.ipynb\n",
        "class Xfan1025(nn.Module):\n",
        "    def __init__(self):\n",
        "        super(Xfan1025, self).__init__()\n",
        "        self.norm1 = nn.BatchNorm2d(1)\n",
        "        self.conv1 = nn.Conv2d(1, 64, 5)\n",
        "        self.pool1 = nn.MaxPool2d(2, 2, 0)\n",
        "        self.conv2 = nn.Conv2d(64, 512, 5)\n",
        "        self.pool2 = nn.MaxPool2d(2, 2, 0)\n",
        "        self.input_size = 512 * 4 * 4\n",
        "        self.fc1 = nn.Linear(self.input_size, 128)\n",
        "        self.drop1 = nn.Dropout(0.35)\n",
        "        self.fc2 = nn.Linear(128, 64)\n",
        "        self.drop2 = nn.Dropout(0.35)\n",
        "        self.fc3 = nn.Linear(64, 10)\n",
        "        \n",
        "        \n",
        "    def forward(self, x):\n",
        "        x = self.norm1(x)\n",
        "        x = F.relu(self.conv1(x))\n",
        "        x = self.pool1(x)\n",
        "        x = F.relu(self.conv2(x))\n",
        "        x = self.pool2(x)\n",
        "        x = x.view(-1, self.input_size)\n",
        "        x = F.relu(self.fc1(x))\n",
        "        x = self.drop1(x)\n",
        "        x = F.relu(self.fc2(x))\n",
        "        x = self.drop2(x)\n",
        "        x = F.softmax(self.fc3(x), dim=1)\n",
        "        return x"
      ],
      "execution_count": 0,
      "outputs": []
    },
    {
      "cell_type": "code",
      "metadata": {
        "ExecuteTime": {
          "end_time": "2019-05-20T11:05:25.752194Z",
          "start_time": "2019-05-20T11:02:00.725392Z"
        },
        "id": "fdYBZOsDJUcf",
        "colab_type": "code",
        "outputId": "f3dcafee-b56e-4be0-c753-edbfbf975d35",
        "colab": {
          "base_uri": "https://localhost:8080/",
          "height": 291
        }
      },
      "source": [
        "model = Xfan1025().to(device)\n",
        "optimizer = optim.Adam(model.parameters())\n",
        "criterion = nn.CrossEntropyLoss()\n",
        "\n",
        "batch_size = 256\n",
        "epochs = 70\n",
        "\n",
        "history = []\n",
        "\n",
        "for i in range(epochs):\n",
        "    loss = train_epoch(model, criterion, optimizer, batch_size)\n",
        "    history.append(loss)\n",
        "    if (i+1)%5==0:\n",
        "        clear_output(True)\n",
        "        plt.plot(history,label='loss')\n",
        "        plt.legend()\n",
        "        plt.show()\n",
        "\n",
        "print(f'Test accuracy is {model_accuracy(model, test, criterion, batch_size):.5f}')"
      ],
      "execution_count": 5,
      "outputs": [
        {
          "output_type": "display_data",
          "data": {
            "image/png": "[encoded data removed]",
            "text/plain": [
              "<Figure size 432x288 with 1 Axes>"
            ]
          },
          "metadata": {
            "tags": []
          }
        },
        {
          "output_type": "stream",
          "text": [
            "Test accuracy is 0.90360\n"
          ],
          "name": "stdout"
        }
      ]
    },
    {
      "cell_type": "code",
      "metadata": {
        "id": "pSvpjAiPqQD8",
        "colab_type": "code",
        "colab": {}
      },
      "source": [
        "# https://github.com/cmasch/zalando-fashion-mnist/blob/master/Simple_Convolutional_Neural_Network_Fashion-MNIST.ipynb\n",
        "class Cmasch(nn.Module):\n",
        "    def __init__(self):\n",
        "        super(Cmasch, self).__init__()\n",
        "        self.norm1 = nn.BatchNorm2d(1)\n",
        "        self.conv1 = nn.Conv2d(1, 64, 4, padding=1)\n",
        "        self.pool1 = nn.MaxPool2d(2, 2, 0)\n",
        "        self.drop1 = nn.Dropout(0.1)\n",
        "        self.conv2 = nn.Conv2d(64, 64, 4)\n",
        "        self.pool2 = nn.MaxPool2d(2, 2, 0)\n",
        "        self.drop2 = nn.Dropout(0.3)\n",
        "        self.input_size = 64 * 10 * 10\n",
        "        self.fc1 = nn.Linear(self.input_size, 256)\n",
        "        self.drop3 = nn.Dropout(0.5)\n",
        "        self.fc2 = nn.Linear(256, 64)\n",
        "        self.norm2 = nn.BatchNorm1d(64)\n",
        "        self.fc3 = nn.Linear(64, 10)\n",
        "        \n",
        "    def forward(self, x):\n",
        "        x = self.norm1(x)\n",
        "        x = F.relu(self.conv1(x))\n",
        "        x = self.pool1(x)\n",
        "        x = self.drop1(x)\n",
        "        x = F.relu(self.conv2(x))\n",
        "        x = self.drop2(x)\n",
        "        x = x.view(-1, self.input_size)\n",
        "        x = F.relu(self.fc1(x))\n",
        "        x = self.drop3(x)\n",
        "        x = F.relu(self.fc2(x))\n",
        "        x = self.norm2(x)\n",
        "        x = F.softmax(self.fc3(x), dim=1)\n",
        "        return x"
      ],
      "execution_count": 0,
      "outputs": []
    },
    {
      "cell_type": "code",
      "metadata": {
        "id": "HtTYvhM9u9zj",
        "colab_type": "code",
        "outputId": "37f0ed38-bc6f-4d78-833e-52a7994a65d1",
        "colab": {
          "base_uri": "https://localhost:8080/",
          "height": 291
        }
      },
      "source": [
        "model = Cmasch().to(device)\n",
        "optimizer = optim.Adam(model.parameters())\n",
        "criterion = nn.CrossEntropyLoss()\n",
        "\n",
        "batch_size = 256\n",
        "epochs = 70\n",
        "\n",
        "history = []\n",
        "\n",
        "for i in range(epochs):\n",
        "    loss = train_epoch(model, criterion, optimizer, batch_size)\n",
        "    history.append(loss)\n",
        "    if (i+1)%5==0:\n",
        "        clear_output(True)\n",
        "        plt.plot(history,label='loss')\n",
        "        plt.legend()\n",
        "        plt.show()\n",
        "\n",
        "print(f'Test accuracy is {model_accuracy(model, test, criterion, batch_size):.5f}')"
      ],
      "execution_count": 7,
      "outputs": [
        {
          "output_type": "display_data",
          "data": {
            "image/png": "[encoded data removed]",
            "text/plain": [
              "<Figure size 432x288 with 1 Axes>"
            ]
          },
          "metadata": {
            "tags": []
          }
        },
        {
          "output_type": "stream",
          "text": [
            "Test accuracy is 0.92380\n"
          ],
          "name": "stdout"
        }
      ]
    },
    {
      "cell_type": "code",
      "metadata": {
        "id": "cys42NweEEpf",
        "colab_type": "code",
        "colab": {}
      },
      "source": [
        "# https://github.com/khanguyen1207/My-Machine-Learning-Corner/blob/master/Zalando%20MNIST/fashion.ipynb\n",
        "class Khanguyen1207(nn.Module):\n",
        "    def __init__(self):\n",
        "        super(Khanguyen1207, self).__init__()\n",
        "        self.conv1 = nn.Conv2d(1, 32, 5, padding=2)\n",
        "        self.conv2 = nn.Conv2d(32, 32, 5, padding=2)\n",
        "        self.pool1 = nn.MaxPool2d(2, 2, 0)\n",
        "        self.drop1 = nn.Dropout(0.25)\n",
        "        self.conv3 = nn.Conv2d(32, 64, 3, padding=1)\n",
        "        self.conv4 = nn.Conv2d(64, 64, 3, padding=1)\n",
        "        self.pool2 = nn.MaxPool2d(2, 2, 0)\n",
        "        self.drop2 = nn.Dropout(0.25)\n",
        "        self.input_size = 64 * 7 * 7\n",
        "        self.fc1 = nn.Linear(self.input_size, 512)\n",
        "        self.norm1 = nn.BatchNorm1d(512)\n",
        "        self.drop3 = nn.Dropout(0.5)\n",
        "        self.fc2 = nn.Linear(512, 10)\n",
        "        \n",
        "    def forward(self, x):\n",
        "        x = F.relu(self.conv1(x))\n",
        "        x = F.relu(self.conv2(x))\n",
        "        x = self.pool1(x)\n",
        "        x = self.drop1(x)\n",
        "        x = F.relu(self.conv3(x))\n",
        "        x = F.relu(self.conv4(x))\n",
        "        x = self.pool2(x)\n",
        "        x = self.drop2(x)\n",
        "        x = x.view(-1, self.input_size)\n",
        "        x = F.relu(self.fc1(x))\n",
        "        x = self.norm1(x)\n",
        "        x = self.drop3(x)\n",
        "        x = F.softmax(self.fc2(x), dim=1)\n",
        "        return x"
      ],
      "execution_count": 0,
      "outputs": []
    },
    {
      "cell_type": "code",
      "metadata": {
        "id": "tcarZkD5G58F",
        "colab_type": "code",
        "outputId": "5ce5c85e-99f6-4ad4-f2e7-e4a5fe3c4e74",
        "colab": {
          "base_uri": "https://localhost:8080/",
          "height": 291
        }
      },
      "source": [
        "model = Khanguyen1207().to(device)\n",
        "optimizer = optim.Adam(model.parameters())\n",
        "criterion = nn.CrossEntropyLoss()\n",
        "\n",
        "batch_size = 256\n",
        "epochs = 70\n",
        "\n",
        "history = []\n",
        "\n",
        "for i in range(epochs):\n",
        "    loss = train_epoch(model, criterion, optimizer, batch_size)\n",
        "    history.append(loss)\n",
        "    if (i+1)%5==0:\n",
        "        clear_output(True)\n",
        "        plt.plot(history,label='loss')\n",
        "        plt.legend()\n",
        "        plt.show()\n",
        "\n",
        "print(f'Test accuracy is {model_accuracy(model, test, criterion, batch_size):.5f}')"
      ],
      "execution_count": 9,
      "outputs": [
        {
          "output_type": "display_data",
          "data": {
            "image/png": "[encoded data removed]",
            "text/plain": [
              "<Figure size 432x288 with 1 Axes>"
            ]
          },
          "metadata": {
            "tags": []
          }
        },
        {
          "output_type": "stream",
          "text": [
            "Test accuracy is 0.93090\n"
          ],
          "name": "stdout"
        }
      ]
    },
    {
      "cell_type": "markdown",
      "metadata": {
        "id": "DPzQAmUWJUco",
        "colab_type": "text"
      },
      "source": [
        "#### Часть 1. Предобработка данных"
      ]
    },
    {
      "cell_type": "markdown",
      "metadata": {
        "id": "inF2e_T1JUcp",
        "colab_type": "text"
      },
      "source": [
        "Для начала загрузим данные. Файл с сонетами Шекспира доступен по [ссылке](http://www.gutenberg.org/ebooks/1041?msg=welcome_stranger). Кроме того, он находится рядом с этим ноутбуком (`sonnetes.txt`).\n",
        "\n",
        "Базовая предобработка уже сделана: текст состоит непосредственно из поэм Шекспира и названий/номеров глав, все техническая информация удалена."
      ]
    },
    {
      "cell_type": "code",
      "metadata": {
        "id": "UBDKWqdCJUcp",
        "colab_type": "code",
        "colab": {}
      },
      "source": [
        "with open('sonnets.txt', 'r') as iofile:\n",
        "    text = iofile.readlines()\n",
        "    \n",
        "TEXT_START = 45\n",
        "TEXT_END = -368\n",
        "text = text[TEXT_START:TEXT_END]\n",
        "assert len(text) == 2616"
      ],
      "execution_count": 0,
      "outputs": []
    },
    {
      "cell_type": "markdown",
      "metadata": {
        "id": "mMA5Kn9wJUcr",
        "colab_type": "text"
      },
      "source": [
        "Так как в этот раз мы хотим научиться предсказывать текст, понизим сложность задачи и приведем текст к нижнему регистру.\n",
        "\n",
        "В настоящий момент переменная `text` представляет собой список из строк. Объедините все строки в одну и приведите к нижнему регистру. "
      ]
    },
    {
      "cell_type": "code",
      "metadata": {
        "id": "7tOAvTLcJUcr",
        "colab_type": "code",
        "outputId": "8594735b-d55a-43f2-8467-f0f8c00916db",
        "colab": {
          "base_uri": "https://localhost:8080/",
          "height": 34
        }
      },
      "source": [
        "# Объедините все строки в одну и приведите к нижнему регистру.\n",
        "# Результат запишите в переменную text.\n",
        "\n",
        "# Your great code here\n",
        "text = ''.join(text)\n",
        "text = text.lower()\n",
        "\n",
        "assert len(text) == 100225, 'Are you sure you have concatenated all the strings?'\n",
        "assert not any([x in set(text) for x in string.ascii_uppercase]), 'Uppercase letters are present'\n",
        "print('Отлично!')"
      ],
      "execution_count": 11,
      "outputs": [
        {
          "output_type": "stream",
          "text": [
            "Отлично!\n"
          ],
          "name": "stdout"
        }
      ]
    },
    {
      "cell_type": "markdown",
      "metadata": {
        "id": "Z0Hc9UZ5JUct",
        "colab_type": "text"
      },
      "source": [
        "Выделите множество всех символов, с которыми нам довелось встретиться в переменную `tokens`."
      ]
    },
    {
      "cell_type": "code",
      "metadata": {
        "id": "9dqxqJmpJUct",
        "colab_type": "code",
        "colab": {}
      },
      "source": [
        "tokens = sorted(set(text))"
      ],
      "execution_count": 0,
      "outputs": []
    },
    {
      "cell_type": "markdown",
      "metadata": {
        "id": "0kqVabsiJUcu",
        "colab_type": "text"
      },
      "source": [
        "Постройте словарь `token_to_idx` вида <символ>: <индекс> и словарь `idx_to_token` вида <индекс>: <символ>."
      ]
    },
    {
      "cell_type": "code",
      "metadata": {
        "id": "qeccoBwfJUcv",
        "colab_type": "code",
        "colab": {}
      },
      "source": [
        "# словарь вида <индекс>:<символ>\n",
        "# Your great code here\n",
        "# tokens - это лист токенов, такми образом он и есть \"словарь\" <индекс>:<символ>\n",
        "idx_to_token = tokens\n",
        "\n",
        "# словарь вида <символ>:<индекс>\n",
        "# Your great code here\n",
        "token_to_idx = {t:i for i,t in enumerate(tokens)}"
      ],
      "execution_count": 0,
      "outputs": []
    },
    {
      "cell_type": "markdown",
      "metadata": {
        "id": "bIxqRxglJUcw",
        "colab_type": "text"
      },
      "source": [
        "*Комментарий: т.к. у нас всего 38 различных токенов, в этот раз воспользуемся one-hot encoding'ом.*\n"
      ]
    },
    {
      "cell_type": "markdown",
      "metadata": {
        "id": "pSB3LI2QJUcw",
        "colab_type": "text"
      },
      "source": [
        "\n",
        "## Построение модели."
      ]
    },
    {
      "cell_type": "markdown",
      "metadata": {
        "id": "GjSqyMHvJUcx",
        "colab_type": "text"
      },
      "source": [
        "Теперь наша задача - создать и обучить рекуррентную нейронную сеть, которая сможет генерировать что-то похожее на поэзию Шекспира.\n",
        "\n",
        "Для начала воспользуемся классической RNN, аналогичной построенной на семинаре. "
      ]
    },
    {
      "cell_type": "code",
      "metadata": {
        "colab_type": "code",
        "id": "2qOsy8zOjhe4",
        "colab": {}
      },
      "source": [
        "# Your modified code from class here\n",
        "class CharRNNModule(nn.Module):\n",
        "    def __init__(self, num_tokens=len(tokens), emb_size=16, rnn_size=64):\n",
        "        super(CharRNNModule, self).__init__()\n",
        "        self.rnn_size = rnn_size\n",
        "        self.emb = nn.Embedding(num_tokens, emb_size)\n",
        "        self.rnn = nn.RNN(emb_size, rnn_size, batch_first=True)\n",
        "        self.fc = nn.Linear(rnn_size, num_tokens)\n",
        "        \n",
        "    def forward(self, x, state):\n",
        "        emb = self.emb(x)\n",
        "        out, state = self.rnn(emb, state)\n",
        "        logits = F.log_softmax(self.fc(out), dim=-1)\n",
        "        return logits, state\n",
        "    \n",
        "    def initial_state(self, batch_size):\n",
        "        return torch.zeros(1, batch_size, self.rnn_size, requires_grad=True)"
      ],
      "execution_count": 0,
      "outputs": []
    },
    {
      "cell_type": "code",
      "metadata": {
        "id": "P4m7DfTDySfG",
        "colab_type": "code",
        "colab": {}
      },
      "source": [
        "def to_matrix(text, batch_size=32, seq_len=None, dtype=torch.long):\n",
        "    if not seq_len:\n",
        "        seq_len = len(text) // batch_size\n",
        "        \n",
        "    matrix = []\n",
        "    for i in range(0, seq_len * batch_size, seq_len):\n",
        "        matrix.append([token_to_idx[c] for c in text[i:i+seq_len]])\n",
        "\n",
        "    return torch.tensor(matrix, dtype=dtype)"
      ],
      "execution_count": 0,
      "outputs": []
    },
    {
      "cell_type": "code",
      "metadata": {
        "id": "a8uY0gQUJ3_B",
        "colab_type": "code",
        "colab": {}
      },
      "source": [
        "model = CharRNNModule().to(device)\n",
        "opt = optim.Adam(model.parameters())\n",
        "history = []"
      ],
      "execution_count": 0,
      "outputs": []
    },
    {
      "cell_type": "code",
      "metadata": {
        "id": "Y2Pxl2StJ5ir",
        "colab_type": "code",
        "outputId": "591a3edb-e501-4a62-ece1-f236d641d70c",
        "colab": {
          "base_uri": "https://localhost:8080/",
          "height": 274
        }
      },
      "source": [
        "batch_size = 32\n",
        "\n",
        "batch_ix = to_matrix(text, batch_size).to(device)\n",
        "\n",
        "for i in range(1000):\n",
        "    hid_state = model.initial_state(batch_size).to(device)\n",
        "    logp_seq, _ = model(batch_ix, hid_state)\n",
        "    \n",
        "    # compute loss\n",
        "    #loss = F.nll_loss(logp_seq[:, 1:].contiguous().view(-1, len(tokens)),\n",
        "    #                  batch_ix[:, :-1].contiguous().view(-1))\n",
        "    \n",
        "    predictions_logp = logp_seq[:, :-1]\n",
        "    actual_next_tokens = batch_ix[:, 1:]\n",
        "\n",
        "    loss = -torch.mean(torch.gather(predictions_logp, dim=2, index=actual_next_tokens[:,:,None]))\n",
        "    \n",
        "    # train with backprop\n",
        "    opt.zero_grad()\n",
        "    loss.backward()\n",
        "    opt.step()\n",
        "    \n",
        "    history.append(loss.item())\n",
        "    \n",
        "    if (i+1)%100==0:\n",
        "        clear_output(True)\n",
        "        plt.plot(history,label='loss')\n",
        "        plt.legend()\n",
        "        plt.show()"
      ],
      "execution_count": 17,
      "outputs": [
        {
          "output_type": "display_data",
          "data": {
            "image/png": "[encoded data removed]",
            "text/plain": [
              "<Figure size 432x288 with 1 Axes>"
            ]
          },
          "metadata": {
            "tags": []
          }
        }
      ]
    },
    {
      "cell_type": "markdown",
      "metadata": {
        "id": "UdKWdpYIJUcy",
        "colab_type": "text"
      },
      "source": [
        "Постройте график функции потерь в зависимости от номера эпохи."
      ]
    },
    {
      "cell_type": "code",
      "metadata": {
        "id": "E6gEClXsJUcz",
        "colab_type": "code",
        "colab": {}
      },
      "source": [
        "# Your plot code here\n",
        "# Plotted in training cell"
      ],
      "execution_count": 0,
      "outputs": []
    },
    {
      "cell_type": "code",
      "metadata": {
        "id": "JvRJZ7AaJUc0",
        "colab_type": "code",
        "outputId": "76009f57-f56e-4819-bd67-f0c25750774d",
        "colab": {
          "base_uri": "https://localhost:8080/",
          "height": 74
        }
      },
      "source": [
        "# Пример сгенерированного текста. Функция `generate_text` отсутствует в коде выше.\n",
        "def generate_text(model, length, seed_phrase=' ', temperature=1.0):\n",
        "    model.eval()\n",
        "    model.cpu()\n",
        "    x_sequence = [token_to_idx[token] for token in seed_phrase]\n",
        "    x_sequence = torch.tensor([[x_sequence]], dtype=torch.long)\n",
        "    \n",
        "    hid_state = model.initial_state(batch_size=1)\n",
        "    for i in range(len(seed_phrase) - 1):\n",
        "        _, hid_state = model(x_sequence[:, :, i], hid_state)\n",
        "    \n",
        "    #start generating\n",
        "    for _ in range(length - len(seed_phrase)):\n",
        "        logp_next, hid_state = model(x_sequence[:, :, -1], hid_state)\n",
        "        p_next = F.softmax(logp_next / temperature, dim=-1).data.numpy()[0].ravel()\n",
        "        \n",
        "        # sample next token and push it back into x_sequence\n",
        "        next_ix = np.random.choice(len(tokens),p=p_next)\n",
        "        next_ix = torch.tensor([[[next_ix]]], dtype=torch.long)\n",
        "        x_sequence = torch.cat([x_sequence, next_ix], dim=2)\n",
        "        \n",
        "    return ''.join([tokens[ix] for ix in x_sequence.data.numpy()[0][0]])\n",
        "\n",
        "print(generate_text(model, length=500, temperature=0.2))"
      ],
      "execution_count": 18,
      "outputs": [
        {
          "output_type": "stream",
          "text": [
            " might, the stands the to the strear the streare i see the strant the sweet the see store the strecened the streare the will the streare and my some that the store the streare the sweet the strear the streare the strear the strant the strear in the so then the self the still the streare the strending the love the strear the strear the on the with the strease my love the streare and the beauty the will the streare the strear the with the strick and deare the stall the from the beauty the sur the \n"
          ],
          "name": "stdout"
        }
      ]
    },
    {
      "cell_type": "markdown",
      "metadata": {
        "id": "jkYMC4F3JUc1",
        "colab_type": "text"
      },
      "source": [
        "### Более поэтичная модель\n",
        "\n",
        "Теперь давайте воспользуемся LSTM слоем вместо классической RNN и сравним результаты."
      ]
    },
    {
      "cell_type": "markdown",
      "metadata": {
        "id": "DGx40pewJUc1",
        "colab_type": "text"
      },
      "source": [
        "Снова постройте график функции потерь от числа эпох. Стал ли финальный loss лучше?"
      ]
    },
    {
      "cell_type": "code",
      "metadata": {
        "id": "VMVaDMx3JUc2",
        "colab_type": "code",
        "outputId": "f637f0b7-5c72-4e4f-ffdd-19ac49579d27",
        "colab": {
          "base_uri": "https://localhost:8080/",
          "height": 274
        }
      },
      "source": [
        "# Your beautiful code here\n",
        "class CharLSTMModule(nn.Module):\n",
        "    def __init__(self, num_tokens=len(tokens), emb_size=16, lstm_size=64):\n",
        "        super(CharLSTMModule, self).__init__()\n",
        "        self.lstm_size = lstm_size\n",
        "        self.emb = nn.Embedding(num_tokens, emb_size)\n",
        "        self.lstm = nn.LSTM(emb_size, lstm_size, batch_first=True)\n",
        "        self.fc = nn.Linear(lstm_size, num_tokens)\n",
        "        \n",
        "    def forward(self, x, state):\n",
        "        emb = self.emb(x)\n",
        "        out, state = self.lstm(emb, state)\n",
        "        logits = F.log_softmax(self.fc(out), dim=-1)\n",
        "        return logits, state\n",
        "    \n",
        "    def initial_state(self, batch_size):\n",
        "        return (torch.zeros(1, batch_size, self.lstm_size, requires_grad=True),\n",
        "                torch.zeros(1, batch_size, self.lstm_size, requires_grad=True))\n",
        "\n",
        "\n",
        "model = CharLSTMModule().to(device)\n",
        "opt = optim.Adam(model.parameters())\n",
        "history = []\n",
        "\n",
        "batch_size = 32\n",
        "batch_ix = to_matrix(text, batch_size).to(device)\n",
        "\n",
        "for i in range(1000):\n",
        "    hid_state = model.initial_state(batch_size)\n",
        "    hid_state = tuple([each.to(device) for each in hid_state])\n",
        "    logp_seq, _ = model(batch_ix, hid_state)\n",
        "    \n",
        "    predictions_logp = logp_seq[:, :-1]\n",
        "    actual_next_tokens = batch_ix[:, 1:]\n",
        "\n",
        "    loss = -torch.mean(torch.gather(predictions_logp, dim=2, index=actual_next_tokens[:,:,None]))\n",
        "    \n",
        "    # train with backprop\n",
        "    opt.zero_grad()\n",
        "    loss.backward()\n",
        "    opt.step()\n",
        "    \n",
        "    history.append(loss.item())\n",
        "    \n",
        "    if (i+1)%100==0:\n",
        "        clear_output(True)\n",
        "        plt.plot(history,label='loss')\n",
        "        plt.legend()\n",
        "        plt.show()"
      ],
      "execution_count": 19,
      "outputs": [
        {
          "output_type": "display_data",
          "data": {
            "image/png": "[encoded data removed]",
            "text/plain": [
              "<Figure size 432x288 with 1 Axes>"
            ]
          },
          "metadata": {
            "tags": []
          }
        }
      ]
    },
    {
      "cell_type": "markdown",
      "metadata": {
        "id": "xxK1ZGJrJUc3",
        "colab_type": "text"
      },
      "source": [
        "Сгенерируйте текст с помощью обученной сети для различных значений параметра `temperature`: `[0.1, 0.2, 0.5, 1.0, 2.0]` (\"температуры\" при генерации). Оцените результаты визуально, попробуйте их проинтерпретировать."
      ]
    },
    {
      "cell_type": "code",
      "metadata": {
        "id": "qg_gS3inJUc3",
        "colab_type": "code",
        "outputId": "c9f7ed69-78b3-4f37-c4fd-38b5561a5f49",
        "colab": {
          "base_uri": "https://localhost:8080/",
          "height": 1309
        }
      },
      "source": [
        "# Text generation with different tempearature values here\n",
        "for t in [0.1, 0.2, 0.5, 1.0, 2.0]:\n",
        "    print(generate_text(model, length=500, temperature=t))\n",
        "    print()"
      ],
      "execution_count": 20,
      "outputs": [
        {
          "output_type": "stream",
          "text": [
            " the where the love,\n",
            "  and the see the self the see the self thee,\n",
            "    the worth the the worth the love in the sees,\n",
            "  and the self the the see shall the the sees,\n",
            "  the self the self the see the seed the self thee,\n",
            "    the love the self the self the see store thee,\n",
            "  the self the self the see the self the love,\n",
            "  the see stare the see stare the see strees,\n",
            "  the worth the see so my self the worth thee,\n",
            "  the self the see the the self the love thee,\n",
            "  when the love the self the the see streest t\n",
            "\n",
            " the self thee,\n",
            "  the self the worth the the the the sees,\n",
            "  the the worth the see shall the see self with thee,\n",
            "  the self the so me the self stall the see,\n",
            "  the self the sumpint the self the some thee,\n",
            "  thou my sumper for the thou hast the prease,\n",
            "  and the self the summer the seed the seed\n",
            "  that the see his the see store and the sees,\n",
            "  and the the so me where the love the love thee,\n",
            "    the beauty the see stress and the love thee,\n",
            "    the that the self the see the self in thee mese,\n",
            "  the\n",
            "\n",
            " whet that shall thee,\n",
            "  the is praind, to the sured and the in brow,\n",
            "  the wast the all the love all on and the dost here.\n",
            "\n",
            "  lxxi\n",
            "\n",
            "  the brount with lide hast and thee thou with thee to to slove.\n",
            "  thee my thee art that shall art where part,\n",
            "  then the love a fall and that stand i my plowest rot,\n",
            "  and are and of thy beauty of make thou fair,\n",
            "  and then the that in see my will thy seegh my grace.\n",
            "  for that praint and me mine my wort is with live,\n",
            "  though the mine to love that the pair of tha\n",
            "\n",
            " mnceest gine:\n",
            "   ncunceauds will that mutupremy hourtare, ad theeor.\n",
            "\n",
            "  xii\n",
            "\n",
            "  thy love infall of   thak thoughse frorme not in und\n",
            "  whiic? ard, for they masured wertchy dead,\n",
            "  whot siy,\n",
            "  lest a sofle co chore to by fuple the ome,\n",
            "  eving prongady and seef, waulss thuty,\n",
            "  not love, athert's least that shum vicpagby,\n",
            "  ant hoal wroow geaveren thee that of daint.\n",
            "  and conganterl!s thou bars me for't my not he mrounch\n",
            "  with gites worn shalllacks of of not enje.\n",
            "  that of mons fight he fornad\n",
            "\n",
            " o )abrau\n",
            " y'e ,lvete, leri? ,\n",
            "\n",
            "  a(;\n",
            " shaskr mays cid muighrh'ss fur,u.s  pear't, aauksl?s my? l?mef w i treybl-acigls:\n",
            " adaut u mber yoe olett forimy:\n",
            "  self? ow mbit,z i! rect a boriems\n",
            "  iftotne'd exach blaka natt,\n",
            "  oonu nost- tredsmom to llaintlldifnno ros ay\n",
            "  so, )eyss, jikh everud seacnnwiged-lfrates rify my,\n",
            "\n",
            " c\n",
            " vo\n",
            "gu\n",
            "n\n",
            " gre diegugowh ding abvoods, derjay. hue,s\n",
            ";- with iorkur' accuy?\n",
            " ,,\n",
            "   frigek cwezut'vof'd, tow'hytl.lon:d chicl ngtayy.-y-haly dao!y odee tibgsi:vuhy;.\n",
            "  lovem ae! \n",
            "\n"
          ],
          "name": "stdout"
        }
      ]
    },
    {
      "cell_type": "markdown",
      "metadata": {
        "id": "TWrGiRnTJUc4",
        "colab_type": "text"
      },
      "source": [
        "Здесь можно оставить свои рассуждения касательно интерпретации результатов."
      ]
    },
    {
      "cell_type": "markdown",
      "metadata": {
        "id": "Twet8Ujc94LO",
        "colab_type": "text"
      },
      "source": [
        "We can also play with the temperature of the Softmax during sampling. Decreasing the temperature from 1 to some lower number (e.g. 0.5) makes the RNN more confident, but also more conservative in its samples."
      ]
    },
    {
      "cell_type": "markdown",
      "metadata": {
        "id": "CsT3cl80JUc5",
        "colab_type": "text"
      },
      "source": [
        "#### Сохранение и загрузка модели\n",
        "\n",
        "Сохраните обученную модель на диск, затем загрузите ее и сгенерируйте текст. Примеры доступны по [ссылке](https://pytorch.org/tutorials/beginner/saving_loading_models.html])."
      ]
    },
    {
      "cell_type": "code",
      "metadata": {
        "id": "Mv6aVuz8JUc5",
        "colab_type": "code",
        "outputId": "e938fa36-a0ae-4e42-8b85-27425de873b5",
        "colab": {
          "base_uri": "https://localhost:8080/",
          "height": 204
        }
      },
      "source": [
        "# Saving and loading code here\n",
        "torch.save(model.state_dict(), 'CharLSTMModule.pt')\n",
        "model = CharLSTMModule()\n",
        "model.load_state_dict(torch.load('CharLSTMModule.pt'))\n",
        "model.eval()\n",
        "\n",
        "print(generate_text(model, length=500, temperature=0.2))"
      ],
      "execution_count": 21,
      "outputs": [
        {
          "output_type": "stream",
          "text": [
            " thee where the self thee,\n",
            "    the prown the warter the love in thy self,\n",
            "  the self should the thou beauty so me thee,\n",
            "  when the self the self the wort the see self,\n",
            "  and the the self the more the see seed in thee,\n",
            "    the see so the love the seak the love in thee,\n",
            "  and the the that the worth the sure thee with thee,\n",
            "    the worth the the see and the dear the warte,\n",
            "  when the beart the see with the so me thee,\n",
            "  and the see the the self the see so thee,\n",
            "  and the sand the love in the love t\n"
          ],
          "name": "stdout"
        }
      ]
    },
    {
      "cell_type": "markdown",
      "metadata": {
        "id": "bMQpVk-9JUc6",
        "colab_type": "text"
      },
      "source": [
        "Данная часть задания завершена."
      ]
    },
    {
      "cell_type": "markdown",
      "metadata": {
        "id": "CtkopM2OJUc7",
        "colab_type": "text"
      },
      "source": [
        "#### Полезные ссылки\n",
        "1. <a href='http://karpathy.github.io/2015/05/21/rnn-effectiveness/'> Статья Андрея Карпатого про RNN. </a> В качестве примеров рассматриваются задачи генерации Шекспировских текстов, Latex формул, Linux Source Code и детских имен.\n",
        "2. <a href='https://github.com/karpathy/char-rnn'> Репозиторий с кодом по char-rnn </a> (тоже за авторством Андрея Карпатого)\n",
        "3. Полезный репозиторий по PyTorch: [ссылка](https://github.com/spro/practical-pytorch`)"
      ]
    },
    {
      "cell_type": "markdown",
      "metadata": {
        "id": "5Z-7zIhcJUc8",
        "colab_type": "text"
      },
      "source": [
        "____________________\n",
        "____________________\n",
        "____________________\n",
        "____________________\n",
        "____________________\n",
        "____________________\n",
        "____________________\n",
        "____________________\n",
        "____________________\n",
        "____________________\n",
        "____________________"
      ]
    },
    {
      "cell_type": "markdown",
      "metadata": {
        "id": "a4MFXkKeJUc9",
        "colab_type": "text"
      },
      "source": [
        "Части задания 3 (HAR classification) и 4 (kaggle) доступны на выбор. Вы можете выполнить одну из них, или обе."
      ]
    },
    {
      "cell_type": "markdown",
      "metadata": {
        "id": "0DvINibrJUc9",
        "colab_type": "text"
      },
      "source": [
        "### Часть 3. HAR classification with raw data (2+ points)\n",
        "__Disclaimer__: В данном задании придется экспериментировать, подбирать оптимальную структуру сети для решения задачи и активно искать подскзаки в сети.\n",
        "\n",
        "\n",
        "Данное задание составлено на основе данного [поста](https://burakhimmetoglu.com/2017/08/22/time-series-classification-with-tensorflow/). С помощью вручную сгенерированных фичей и классических подходов задача распознования движений была решена с точностью 96%. \n",
        "\n",
        "Также будет полезным изучить [вот этот](https://github.com/healthDataScience/deep-learning-HAR), а так же [вот этот репозиторий](https://github.com/guillaume-chevalier/LSTM-Human-Activity-Recognition), где к данной задаче рассматривается несколько подходов."
      ]
    },
    {
      "cell_type": "code",
      "metadata": {
        "id": "roI0D4wRJUc9",
        "colab_type": "code",
        "colab": {}
      },
      "source": [
        "import numpy as np\n",
        "import matplotlib.pyplot as plt\n",
        "import pandas as pd\n",
        "import math\n",
        "import pylab\n",
        "import warnings as w\n",
        "import os\n",
        "\n",
        "%matplotlib inline"
      ],
      "execution_count": 0,
      "outputs": []
    },
    {
      "cell_type": "code",
      "metadata": {
        "id": "omt_h97OJUc-",
        "colab_type": "code",
        "colab": {}
      },
      "source": [
        "import matplotlib\n",
        "matplotlib.rcParams.update({'font.size':14})"
      ],
      "execution_count": 0,
      "outputs": []
    },
    {
      "cell_type": "markdown",
      "metadata": {
        "id": "o8EP1VkdJUc_",
        "colab_type": "text"
      },
      "source": [
        "Вернемся к задаче классификации движений на основе [данных](https://archive.ics.uci.edu/ml/datasets/Human+Activity+Recognition+Using+Smartphones) из репозитория UCI ([прямая ссылка на скачивание](https://archive.ics.uci.edu/ml/machine-learning-databases/00240/UCI%20HAR%20Dataset.zip)). \n",
        "\n",
        "В этот раз будем работать с исходными, а не предобработанными данными. Данные представляют собой сигналы с гироскопа и акселерометра, закрепленного на теле человека. Каждому семплу соотвествует 9 связанных временных рядов."
      ]
    },
    {
      "cell_type": "markdown",
      "metadata": {
        "id": "6D8pS3NqJUdA",
        "colab_type": "text"
      },
      "source": [
        "В начале приведена визуализация данных на основе PCA над вручную сгенерированными признаками. Для отрисовки графиков (цвет и легенда) нам также понадобятся метки классов."
      ]
    },
    {
      "cell_type": "code",
      "metadata": {
        "id": "v1CEF5INJUdA",
        "colab_type": "code",
        "colab": {}
      },
      "source": [
        "X_train_with_engineered_features = np.genfromtxt(os.path.join(\"UCI HAR Dataset\", \"train\", \"X_train.txt\"))\n",
        "y_train = np.genfromtxt(os.path.join(\"UCI HAR Dataset\", \"train\", \"y_train.txt\"))\n",
        "\n",
        "y_train_list = list(y_train)\n",
        "X_unique = np.array([X_train_with_engineered_features[y_train_list.index(l)]\n",
        "                             for l in sorted(list(set(y_train)))])\n",
        "\n",
        "legend_labels = [\"WALKING\", \"WALKING.UP\", \"WALKING.DOWN\", \"SITTING\", \"STANDING\", \"LAYING\"]\n",
        "colors_list = ['red', 'blue', 'green', 'orange', 'cyan', 'magenta']\n",
        "mapped_colors = [colors_list[int(i)-1] for i in y_train]\n",
        "\n",
        "from sklearn.decomposition import PCA\n",
        "pca = PCA()\n",
        "\n",
        "X_train_pca = pca.fit_transform(X_train_with_engineered_features)\n",
        "\n",
        "plt.figure(figsize=(15,10))\n",
        "pylab.scatter(X_train_pca[:, 0], X_train_pca[:, 1],\n",
        "             c=mapped_colors)\n",
        "plt.grid()\n",
        "for idx, x in enumerate(pca.transform(X_unique)):\n",
        "    plt.scatter(x[0], \n",
        "                x[1], \n",
        "                c=colors_list[idx], \n",
        "                label=legend_labels[idx])\n",
        "plt.xlabel('First principal component')\n",
        "plt.ylabel('Second principal component')\n",
        "plt.legend()"
      ],
      "execution_count": 0,
      "outputs": []
    },
    {
      "cell_type": "markdown",
      "metadata": {
        "id": "qJxCuWcdJUdB",
        "colab_type": "text"
      },
      "source": [
        "#### Предобработка данных\n",
        "Предобработка сделана за нас автором [данного репозитория](https://github.com/guillaume-chevalier/LSTM-Human-Activity-Recognition). Будьте осторожны с путями."
      ]
    },
    {
      "cell_type": "code",
      "metadata": {
        "id": "Up9k6oPUJUdB",
        "colab_type": "code",
        "colab": {}
      },
      "source": [
        "# Useful Constants\n",
        "\n",
        "# Those are separate normalised input features for the neural network\n",
        "INPUT_SIGNAL_TYPES = [\n",
        "    \"body_acc_x_\",\n",
        "    \"body_acc_y_\",\n",
        "    \"body_acc_z_\",\n",
        "    \"body_gyro_x_\",\n",
        "    \"body_gyro_y_\",\n",
        "    \"body_gyro_z_\",\n",
        "    \"total_acc_x_\",\n",
        "    \"total_acc_y_\",\n",
        "    \"total_acc_z_\"\n",
        "]\n",
        "\n",
        "# Output classes to learn how to classify\n",
        "LABELS = [\n",
        "    \"WALKING\", \n",
        "    \"WALKING_UPSTAIRS\", \n",
        "    \"WALKING_DOWNSTAIRS\", \n",
        "    \"SITTING\", \n",
        "    \"STANDING\", \n",
        "    \"LAYING\"\n",
        "]\n",
        "\n",
        "DATA_PATH = \"./\"\n",
        "\n",
        "DATASET_PATH = DATA_PATH + \"UCI HAR Dataset/\"\n",
        "print(\"\\n\" + \"Dataset is now located at: \" + DATASET_PATH)\n",
        "\n",
        "TRAIN = \"train/\"\n",
        "TEST = \"test/\"\n",
        "\n",
        "\n",
        "# Load \"X\" (the neural network's training and testing inputs)\n",
        "\n",
        "def load_X(X_signals_paths):\n",
        "    X_signals = []\n",
        "    \n",
        "    for signal_type_path in X_signals_paths:\n",
        "        file = open(signal_type_path, 'r')\n",
        "        # Read dataset from disk, dealing with text files' syntax\n",
        "        X_signals.append(\n",
        "            [np.array(serie, dtype=np.float32) for serie in [\n",
        "                row.replace('  ', ' ').strip().split(' ') for row in file\n",
        "            ]]\n",
        "        )\n",
        "        file.close()\n",
        "    \n",
        "    return np.transpose(np.array(X_signals), (1, 2, 0))\n",
        "\n",
        "X_train_signals_paths = [\n",
        "    os.path.join(*[DATASET_PATH, TRAIN, \"Inertial Signals/\", signal+\"train.txt\"]) for signal in INPUT_SIGNAL_TYPES\n",
        "]\n",
        "X_test_signals_paths = [\n",
        "    os.path.join(*[DATASET_PATH, TEST, \"Inertial Signals/\", signal+\"test.txt\"]) for signal in INPUT_SIGNAL_TYPES\n",
        "]\n",
        "\n",
        "X_train = load_X(X_train_signals_paths)\n",
        "X_test = load_X(X_test_signals_paths)\n",
        "\n",
        "\n",
        "# Load \"y\" (the neural network's training and testing outputs)\n",
        "\n",
        "def load_y(y_path):\n",
        "    file = open(y_path, 'r')\n",
        "    # Read dataset from disk, dealing with text file's syntax\n",
        "    y_ = np.array(\n",
        "        [elem for elem in [\n",
        "            row.replace('  ', ' ').strip().split(' ') for row in file\n",
        "        ]], \n",
        "        dtype=np.int32\n",
        "    )\n",
        "    file.close()\n",
        "    \n",
        "    # Substract 1 to each output class for friendly 0-based indexing \n",
        "    return y_ - 1\n",
        "\n",
        "y_train_path = os.path.join(DATASET_PATH, TRAIN, \"y_train.txt\")\n",
        "y_test_path = os.path.join(DATASET_PATH, TEST, \"y_test.txt\")\n",
        "\n",
        "y_train = load_y(y_train_path)\n",
        "y_test = load_y(y_test_path)"
      ],
      "execution_count": 0,
      "outputs": []
    },
    {
      "cell_type": "code",
      "metadata": {
        "id": "CFC4SeW9JUdC",
        "colab_type": "code",
        "colab": {}
      },
      "source": [
        "# Input Data \n",
        "\n",
        "training_data_count = len(X_train)  # 7352 training series (with 50% overlap between each serie)\n",
        "test_data_count = len(X_test)  # 2947 testing series\n",
        "n_steps = len(X_train[0])  # 128 timesteps per series\n",
        "n_input = len(X_train[0][0])  # 9 input parameters per timestep\n",
        "\n",
        "\n",
        "# LSTM Neural Network's internal structure\n",
        "\n",
        "n_hidden = 32 # Hidden layer num of features\n",
        "n_classes = 6 # Total classes (should go up, or should go down)\n",
        "\n",
        "\n",
        "# Some debugging info\n",
        "\n",
        "print(\"Some useful info to get an insight on dataset's shape and normalisation:\")\n",
        "print(\"(X shape, y shape, every X's mean, every X's standard deviation)\")\n",
        "print(X_test.shape, y_test.shape, np.mean(X_test), np.std(X_test))\n",
        "print(\"The dataset is therefore properly normalised, as expected, but not yet one-hot encoded.\")"
      ],
      "execution_count": 0,
      "outputs": []
    },
    {
      "cell_type": "markdown",
      "metadata": {
        "id": "M7b0s-tKJUdD",
        "colab_type": "text"
      },
      "source": [
        "#### Построение сети и эксперименты. (100% +)\n",
        "\n",
        "__Ваша задача - построить сеть, которая решит задачу классификации с точностью (`accuracy`) не менее 85%.__\n",
        "Разбалловка следующая:\n",
        "* $=$85% - 2 points\n",
        "* $>=$89% - 2.5 points\n",
        "* $>=$91% - 3 points\n",
        "\n",
        "\n",
        "__Warning!__ В сети существует несколько решений данной задачи с использованием различных фреймворков. При проверке это будет учитываться, так что свое решение нужно будет объяснить. Пожалуйста, не копируйте бездумно код, такие задания будут оценены 0 баллов. Если задача не решается - можете обратиться к заданию по классификации изображений."
      ]
    },
    {
      "cell_type": "markdown",
      "metadata": {
        "id": "n6-XygloJUdE",
        "colab_type": "text"
      },
      "source": [
        "После выполнения задания заполните небольшой отчет об экспериментах вида \"Я пробовал(а) ... подходы и получил(а) ... результаты. Наконец, после N+1 чашки кофе/бессонной ночи у меня получилось, и весь секрет был в ...\""
      ]
    },
    {
      "cell_type": "code",
      "metadata": {
        "id": "E4PE02M1JUdE",
        "colab_type": "code",
        "colab": {}
      },
      "source": [
        "# Your experiments here"
      ],
      "execution_count": 0,
      "outputs": []
    },
    {
      "cell_type": "markdown",
      "metadata": {
        "id": "Za3cgH5aJUdF",
        "colab_type": "text"
      },
      "source": [
        "### Часть 4. Dogs classification.\n",
        "\n",
        "Предлагаем вам решить задачу классификации пород собак. Вы можете обучить сеть с нуля или же воспользоваться методом fine-tuning'а. Полезная ссылка на [предобученные модели](https://pytorch.org/docs/stable/torchvision/models.html).\n",
        "\n",
        "Данные можно скачать [отсюда](https://www.dropbox.com/s/vgqpz2f1lolxmlv/data.zip?dl=0). Датасет представлен 50 классами пород собак, которые можно найти в папке train в соответствующих директориях. При сдаче данной части задания вместе с ноутбуком необходимо отправить .csv-файл с предсказаниями классов тестовой выборки в формате: <имя изображения>,<метка класса> по одному объекту на строку. Ниже приведите код ваших экспериментов и короткий вывод по их результатам.\n",
        "\n",
        "Будут оцениваться качество классификации (accuracy) на тестовой выборке (2 балла) и проведенные эксперименты (1 балл).\n",
        "Разбалловка следующая:\n",
        "* $>=$96% - 2 points\n",
        "* $>=$85% - 1.5 points\n",
        "* $>=$70% - 0.75 points"
      ]
    }
  ]
}