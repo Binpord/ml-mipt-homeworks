{
 "cells": [
  {
   "cell_type": "markdown",
   "metadata": {
    "nbgrader": {
     "grade": false,
     "grade_id": "cell-86e0de040aac317a",
     "locked": true,
     "schema_version": 2,
     "solution": false
    }
   },
   "source": [
    "# Лабораторная работа №1. \n",
    "\n",
    "Данная лабораторная работа состоит из нескольких блоков. В каждом блоке вам предлагается произвести некоторые манипуляции с данными и сделать некоторые выводы.\n",
    "* Задавать вопросы можно и нужно.\n",
    "* Списывать не нужно. Работы, которые были списаны обнуляются.\n",
    "* Блоки выполняются последовательно и оцениваются отдельно."
   ]
  },
  {
   "cell_type": "markdown",
   "metadata": {
    "nbgrader": {
     "grade": false,
     "grade_id": "cell-512ba712fc0fc065",
     "locked": true,
     "schema_version": 2,
     "solution": false
    }
   },
   "source": [
    "## Часть 1. Работа с моделями и ансамблями моделей в задачи классификации."
   ]
  },
  {
   "cell_type": "markdown",
   "metadata": {
    "nbgrader": {
     "grade": false,
     "grade_id": "cell-b656a4266174b009",
     "locked": true,
     "schema_version": 2,
     "solution": false
    }
   },
   "source": [
    "### 1. Чтение данных.\n",
    "Воспользуемся [датасетом](https://archive.ics.uci.edu/ml/datasets/Statlog+%28Vehicle+Silhouettes%29), в котором описываются различные автомобили. Будем решать задачу многоклассовой ($k=4$) классификации.\n",
    "Для удобства, датасет уже преобразован в удобный формат."
   ]
  },
  {
   "cell_type": "code",
   "execution_count": 1,
   "metadata": {
    "nbgrader": {
     "grade": false,
     "grade_id": "cell-eebac6bfdf73d0bc",
     "locked": true,
     "schema_version": 2,
     "solution": false
    }
   },
   "outputs": [
    {
     "name": "stdout",
     "output_type": "stream",
     "text": [
      "(846, 19) (846,)\n",
      "(549, 19) (549,) (297, 19) (297,)\n"
     ]
    }
   ],
   "source": [
    "import pandas as pd\n",
    "import numpy as np\n",
    "from sklearn.model_selection import train_test_split\n",
    "\n",
    "dataset = pd.read_csv('car_data.csv', delimiter=',', header=None).values\n",
    "data = dataset[:, :-1].astype(int)\n",
    "target = dataset[:, -1]\n",
    "\n",
    "print(data.shape, target.shape)\n",
    "\n",
    "X_train, X_test, y_train, y_test = train_test_split(data, target, test_size=0.35)\n",
    "print(X_train.shape, y_train.shape, X_test.shape, y_test.shape)"
   ]
  },
  {
   "cell_type": "markdown",
   "metadata": {
    "nbgrader": {
     "grade": false,
     "grade_id": "cell-88b1a0f688568f2c",
     "locked": true,
     "schema_version": 2,
     "solution": false
    }
   },
   "source": [
    "Для первичного анализа может быть полезна библиотека `pandas`. Преобразуем `train` выборку в `pd.DataFrame`."
   ]
  },
  {
   "cell_type": "code",
   "execution_count": 2,
   "metadata": {},
   "outputs": [
    {
     "data": {
      "text/html": [
       "<div>\n",
       "<style scoped>\n",
       "    .dataframe tbody tr th:only-of-type {\n",
       "        vertical-align: middle;\n",
       "    }\n",
       "\n",
       "    .dataframe tbody tr th {\n",
       "        vertical-align: top;\n",
       "    }\n",
       "\n",
       "    .dataframe thead th {\n",
       "        text-align: right;\n",
       "    }\n",
       "</style>\n",
       "<table border=\"1\" class=\"dataframe\">\n",
       "  <thead>\n",
       "    <tr style=\"text-align: right;\">\n",
       "      <th></th>\n",
       "      <th>0</th>\n",
       "      <th>1</th>\n",
       "      <th>2</th>\n",
       "      <th>3</th>\n",
       "      <th>4</th>\n",
       "      <th>5</th>\n",
       "      <th>6</th>\n",
       "      <th>7</th>\n",
       "      <th>8</th>\n",
       "      <th>9</th>\n",
       "      <th>10</th>\n",
       "      <th>11</th>\n",
       "      <th>12</th>\n",
       "      <th>13</th>\n",
       "      <th>14</th>\n",
       "      <th>15</th>\n",
       "      <th>16</th>\n",
       "      <th>17</th>\n",
       "      <th>18</th>\n",
       "    </tr>\n",
       "  </thead>\n",
       "  <tbody>\n",
       "    <tr>\n",
       "      <th>0</th>\n",
       "      <td>648</td>\n",
       "      <td>105</td>\n",
       "      <td>53</td>\n",
       "      <td>105</td>\n",
       "      <td>184</td>\n",
       "      <td>57</td>\n",
       "      <td>11</td>\n",
       "      <td>211</td>\n",
       "      <td>31</td>\n",
       "      <td>24</td>\n",
       "      <td>168</td>\n",
       "      <td>224</td>\n",
       "      <td>661</td>\n",
       "      <td>218</td>\n",
       "      <td>71</td>\n",
       "      <td>0</td>\n",
       "      <td>15</td>\n",
       "      <td>186</td>\n",
       "      <td>197</td>\n",
       "    </tr>\n",
       "    <tr>\n",
       "      <th>1</th>\n",
       "      <td>556</td>\n",
       "      <td>108</td>\n",
       "      <td>56</td>\n",
       "      <td>102</td>\n",
       "      <td>246</td>\n",
       "      <td>75</td>\n",
       "      <td>6</td>\n",
       "      <td>239</td>\n",
       "      <td>28</td>\n",
       "      <td>26</td>\n",
       "      <td>167</td>\n",
       "      <td>264</td>\n",
       "      <td>855</td>\n",
       "      <td>228</td>\n",
       "      <td>82</td>\n",
       "      <td>9</td>\n",
       "      <td>13</td>\n",
       "      <td>186</td>\n",
       "      <td>185</td>\n",
       "    </tr>\n",
       "    <tr>\n",
       "      <th>2</th>\n",
       "      <td>512</td>\n",
       "      <td>103</td>\n",
       "      <td>54</td>\n",
       "      <td>107</td>\n",
       "      <td>189</td>\n",
       "      <td>56</td>\n",
       "      <td>11</td>\n",
       "      <td>223</td>\n",
       "      <td>30</td>\n",
       "      <td>25</td>\n",
       "      <td>174</td>\n",
       "      <td>225</td>\n",
       "      <td>729</td>\n",
       "      <td>200</td>\n",
       "      <td>70</td>\n",
       "      <td>0</td>\n",
       "      <td>29</td>\n",
       "      <td>187</td>\n",
       "      <td>201</td>\n",
       "    </tr>\n",
       "    <tr>\n",
       "      <th>3</th>\n",
       "      <td>126</td>\n",
       "      <td>89</td>\n",
       "      <td>42</td>\n",
       "      <td>70</td>\n",
       "      <td>148</td>\n",
       "      <td>62</td>\n",
       "      <td>7</td>\n",
       "      <td>147</td>\n",
       "      <td>45</td>\n",
       "      <td>19</td>\n",
       "      <td>143</td>\n",
       "      <td>176</td>\n",
       "      <td>323</td>\n",
       "      <td>153</td>\n",
       "      <td>76</td>\n",
       "      <td>2</td>\n",
       "      <td>6</td>\n",
       "      <td>186</td>\n",
       "      <td>189</td>\n",
       "    </tr>\n",
       "    <tr>\n",
       "      <th>4</th>\n",
       "      <td>309</td>\n",
       "      <td>109</td>\n",
       "      <td>48</td>\n",
       "      <td>107</td>\n",
       "      <td>215</td>\n",
       "      <td>62</td>\n",
       "      <td>10</td>\n",
       "      <td>205</td>\n",
       "      <td>32</td>\n",
       "      <td>23</td>\n",
       "      <td>158</td>\n",
       "      <td>222</td>\n",
       "      <td>624</td>\n",
       "      <td>168</td>\n",
       "      <td>65</td>\n",
       "      <td>9</td>\n",
       "      <td>32</td>\n",
       "      <td>195</td>\n",
       "      <td>206</td>\n",
       "    </tr>\n",
       "    <tr>\n",
       "      <th>5</th>\n",
       "      <td>117</td>\n",
       "      <td>109</td>\n",
       "      <td>53</td>\n",
       "      <td>109</td>\n",
       "      <td>221</td>\n",
       "      <td>69</td>\n",
       "      <td>12</td>\n",
       "      <td>221</td>\n",
       "      <td>31</td>\n",
       "      <td>25</td>\n",
       "      <td>169</td>\n",
       "      <td>226</td>\n",
       "      <td>712</td>\n",
       "      <td>212</td>\n",
       "      <td>72</td>\n",
       "      <td>13</td>\n",
       "      <td>28</td>\n",
       "      <td>188</td>\n",
       "      <td>201</td>\n",
       "    </tr>\n",
       "    <tr>\n",
       "      <th>6</th>\n",
       "      <td>300</td>\n",
       "      <td>106</td>\n",
       "      <td>53</td>\n",
       "      <td>98</td>\n",
       "      <td>193</td>\n",
       "      <td>60</td>\n",
       "      <td>10</td>\n",
       "      <td>215</td>\n",
       "      <td>31</td>\n",
       "      <td>24</td>\n",
       "      <td>169</td>\n",
       "      <td>224</td>\n",
       "      <td>681</td>\n",
       "      <td>218</td>\n",
       "      <td>73</td>\n",
       "      <td>8</td>\n",
       "      <td>21</td>\n",
       "      <td>188</td>\n",
       "      <td>197</td>\n",
       "    </tr>\n",
       "    <tr>\n",
       "      <th>7</th>\n",
       "      <td>28</td>\n",
       "      <td>102</td>\n",
       "      <td>45</td>\n",
       "      <td>85</td>\n",
       "      <td>193</td>\n",
       "      <td>64</td>\n",
       "      <td>6</td>\n",
       "      <td>192</td>\n",
       "      <td>33</td>\n",
       "      <td>22</td>\n",
       "      <td>146</td>\n",
       "      <td>217</td>\n",
       "      <td>570</td>\n",
       "      <td>163</td>\n",
       "      <td>76</td>\n",
       "      <td>6</td>\n",
       "      <td>7</td>\n",
       "      <td>195</td>\n",
       "      <td>193</td>\n",
       "    </tr>\n",
       "    <tr>\n",
       "      <th>8</th>\n",
       "      <td>435</td>\n",
       "      <td>85</td>\n",
       "      <td>37</td>\n",
       "      <td>68</td>\n",
       "      <td>145</td>\n",
       "      <td>60</td>\n",
       "      <td>6</td>\n",
       "      <td>130</td>\n",
       "      <td>51</td>\n",
       "      <td>18</td>\n",
       "      <td>130</td>\n",
       "      <td>150</td>\n",
       "      <td>253</td>\n",
       "      <td>121</td>\n",
       "      <td>65</td>\n",
       "      <td>3</td>\n",
       "      <td>14</td>\n",
       "      <td>195</td>\n",
       "      <td>203</td>\n",
       "    </tr>\n",
       "    <tr>\n",
       "      <th>9</th>\n",
       "      <td>442</td>\n",
       "      <td>91</td>\n",
       "      <td>36</td>\n",
       "      <td>60</td>\n",
       "      <td>126</td>\n",
       "      <td>56</td>\n",
       "      <td>6</td>\n",
       "      <td>119</td>\n",
       "      <td>56</td>\n",
       "      <td>17</td>\n",
       "      <td>130</td>\n",
       "      <td>139</td>\n",
       "      <td>211</td>\n",
       "      <td>118</td>\n",
       "      <td>67</td>\n",
       "      <td>6</td>\n",
       "      <td>14</td>\n",
       "      <td>192</td>\n",
       "      <td>198</td>\n",
       "    </tr>\n",
       "    <tr>\n",
       "      <th>10</th>\n",
       "      <td>313</td>\n",
       "      <td>96</td>\n",
       "      <td>52</td>\n",
       "      <td>104</td>\n",
       "      <td>222</td>\n",
       "      <td>67</td>\n",
       "      <td>9</td>\n",
       "      <td>198</td>\n",
       "      <td>33</td>\n",
       "      <td>23</td>\n",
       "      <td>163</td>\n",
       "      <td>217</td>\n",
       "      <td>589</td>\n",
       "      <td>226</td>\n",
       "      <td>67</td>\n",
       "      <td>12</td>\n",
       "      <td>20</td>\n",
       "      <td>192</td>\n",
       "      <td>201</td>\n",
       "    </tr>\n",
       "    <tr>\n",
       "      <th>11</th>\n",
       "      <td>0</td>\n",
       "      <td>95</td>\n",
       "      <td>48</td>\n",
       "      <td>83</td>\n",
       "      <td>178</td>\n",
       "      <td>72</td>\n",
       "      <td>10</td>\n",
       "      <td>162</td>\n",
       "      <td>42</td>\n",
       "      <td>20</td>\n",
       "      <td>159</td>\n",
       "      <td>176</td>\n",
       "      <td>379</td>\n",
       "      <td>184</td>\n",
       "      <td>70</td>\n",
       "      <td>6</td>\n",
       "      <td>16</td>\n",
       "      <td>187</td>\n",
       "      <td>197</td>\n",
       "    </tr>\n",
       "    <tr>\n",
       "      <th>12</th>\n",
       "      <td>375</td>\n",
       "      <td>109</td>\n",
       "      <td>52</td>\n",
       "      <td>95</td>\n",
       "      <td>189</td>\n",
       "      <td>58</td>\n",
       "      <td>4</td>\n",
       "      <td>227</td>\n",
       "      <td>29</td>\n",
       "      <td>25</td>\n",
       "      <td>158</td>\n",
       "      <td>262</td>\n",
       "      <td>776</td>\n",
       "      <td>217</td>\n",
       "      <td>82</td>\n",
       "      <td>0</td>\n",
       "      <td>19</td>\n",
       "      <td>187</td>\n",
       "      <td>186</td>\n",
       "    </tr>\n",
       "    <tr>\n",
       "      <th>13</th>\n",
       "      <td>654</td>\n",
       "      <td>100</td>\n",
       "      <td>47</td>\n",
       "      <td>88</td>\n",
       "      <td>190</td>\n",
       "      <td>60</td>\n",
       "      <td>10</td>\n",
       "      <td>171</td>\n",
       "      <td>38</td>\n",
       "      <td>21</td>\n",
       "      <td>155</td>\n",
       "      <td>186</td>\n",
       "      <td>440</td>\n",
       "      <td>169</td>\n",
       "      <td>59</td>\n",
       "      <td>15</td>\n",
       "      <td>18</td>\n",
       "      <td>201</td>\n",
       "      <td>210</td>\n",
       "    </tr>\n",
       "    <tr>\n",
       "      <th>14</th>\n",
       "      <td>718</td>\n",
       "      <td>104</td>\n",
       "      <td>52</td>\n",
       "      <td>110</td>\n",
       "      <td>172</td>\n",
       "      <td>53</td>\n",
       "      <td>10</td>\n",
       "      <td>219</td>\n",
       "      <td>30</td>\n",
       "      <td>25</td>\n",
       "      <td>166</td>\n",
       "      <td>235</td>\n",
       "      <td>711</td>\n",
       "      <td>218</td>\n",
       "      <td>74</td>\n",
       "      <td>10</td>\n",
       "      <td>28</td>\n",
       "      <td>188</td>\n",
       "      <td>198</td>\n",
       "    </tr>\n",
       "  </tbody>\n",
       "</table>\n",
       "</div>"
      ],
      "text/plain": [
       "     0    1   2    3    4   5   6    7   8   9    10   11   12   13  14  15  \\\n",
       "0   648  105  53  105  184  57  11  211  31  24  168  224  661  218  71   0   \n",
       "1   556  108  56  102  246  75   6  239  28  26  167  264  855  228  82   9   \n",
       "2   512  103  54  107  189  56  11  223  30  25  174  225  729  200  70   0   \n",
       "3   126   89  42   70  148  62   7  147  45  19  143  176  323  153  76   2   \n",
       "4   309  109  48  107  215  62  10  205  32  23  158  222  624  168  65   9   \n",
       "5   117  109  53  109  221  69  12  221  31  25  169  226  712  212  72  13   \n",
       "6   300  106  53   98  193  60  10  215  31  24  169  224  681  218  73   8   \n",
       "7    28  102  45   85  193  64   6  192  33  22  146  217  570  163  76   6   \n",
       "8   435   85  37   68  145  60   6  130  51  18  130  150  253  121  65   3   \n",
       "9   442   91  36   60  126  56   6  119  56  17  130  139  211  118  67   6   \n",
       "10  313   96  52  104  222  67   9  198  33  23  163  217  589  226  67  12   \n",
       "11    0   95  48   83  178  72  10  162  42  20  159  176  379  184  70   6   \n",
       "12  375  109  52   95  189  58   4  227  29  25  158  262  776  217  82   0   \n",
       "13  654  100  47   88  190  60  10  171  38  21  155  186  440  169  59  15   \n",
       "14  718  104  52  110  172  53  10  219  30  25  166  235  711  218  74  10   \n",
       "\n",
       "    16   17   18  \n",
       "0   15  186  197  \n",
       "1   13  186  185  \n",
       "2   29  187  201  \n",
       "3    6  186  189  \n",
       "4   32  195  206  \n",
       "5   28  188  201  \n",
       "6   21  188  197  \n",
       "7    7  195  193  \n",
       "8   14  195  203  \n",
       "9   14  192  198  \n",
       "10  20  192  201  \n",
       "11  16  187  197  \n",
       "12  19  187  186  \n",
       "13  18  201  210  \n",
       "14  28  188  198  "
      ]
     },
     "execution_count": 2,
     "metadata": {},
     "output_type": "execute_result"
    }
   ],
   "source": [
    "X_train_pd = pd.DataFrame(X_train)\n",
    "\n",
    "# First 15 rows of our dataset.\n",
    "X_train_pd.head(15)"
   ]
  },
  {
   "cell_type": "markdown",
   "metadata": {
    "nbgrader": {
     "grade": false,
     "grade_id": "cell-98e7d91d77d65fcf",
     "locked": true,
     "schema_version": 2,
     "solution": false
    }
   },
   "source": [
    "Воспользовавшись методами `describe` и `info` можно получить полезную информацию о датасете."
   ]
  },
  {
   "cell_type": "code",
   "execution_count": 3,
   "metadata": {},
   "outputs": [
    {
     "data": {
      "text/html": [
       "<div>\n",
       "<style scoped>\n",
       "    .dataframe tbody tr th:only-of-type {\n",
       "        vertical-align: middle;\n",
       "    }\n",
       "\n",
       "    .dataframe tbody tr th {\n",
       "        vertical-align: top;\n",
       "    }\n",
       "\n",
       "    .dataframe thead th {\n",
       "        text-align: right;\n",
       "    }\n",
       "</style>\n",
       "<table border=\"1\" class=\"dataframe\">\n",
       "  <thead>\n",
       "    <tr style=\"text-align: right;\">\n",
       "      <th></th>\n",
       "      <th>0</th>\n",
       "      <th>1</th>\n",
       "      <th>2</th>\n",
       "      <th>3</th>\n",
       "      <th>4</th>\n",
       "      <th>5</th>\n",
       "      <th>6</th>\n",
       "      <th>7</th>\n",
       "      <th>8</th>\n",
       "      <th>9</th>\n",
       "      <th>10</th>\n",
       "      <th>11</th>\n",
       "      <th>12</th>\n",
       "      <th>13</th>\n",
       "      <th>14</th>\n",
       "      <th>15</th>\n",
       "      <th>16</th>\n",
       "      <th>17</th>\n",
       "      <th>18</th>\n",
       "    </tr>\n",
       "  </thead>\n",
       "  <tbody>\n",
       "    <tr>\n",
       "      <th>count</th>\n",
       "      <td>549.000000</td>\n",
       "      <td>549.000000</td>\n",
       "      <td>549.000000</td>\n",
       "      <td>549.000000</td>\n",
       "      <td>549.000000</td>\n",
       "      <td>549.000000</td>\n",
       "      <td>549.000000</td>\n",
       "      <td>549.000000</td>\n",
       "      <td>549.000000</td>\n",
       "      <td>549.000000</td>\n",
       "      <td>549.000000</td>\n",
       "      <td>549.000000</td>\n",
       "      <td>549.000000</td>\n",
       "      <td>549.000000</td>\n",
       "      <td>549.000000</td>\n",
       "      <td>549.000000</td>\n",
       "      <td>549.000000</td>\n",
       "      <td>549.000000</td>\n",
       "      <td>549.000000</td>\n",
       "    </tr>\n",
       "    <tr>\n",
       "      <th>mean</th>\n",
       "      <td>415.967213</td>\n",
       "      <td>93.550091</td>\n",
       "      <td>44.757741</td>\n",
       "      <td>81.721311</td>\n",
       "      <td>167.867031</td>\n",
       "      <td>61.573770</td>\n",
       "      <td>8.551913</td>\n",
       "      <td>167.823315</td>\n",
       "      <td>41.185792</td>\n",
       "      <td>20.506375</td>\n",
       "      <td>147.734062</td>\n",
       "      <td>187.612022</td>\n",
       "      <td>434.617486</td>\n",
       "      <td>174.424408</td>\n",
       "      <td>72.515483</td>\n",
       "      <td>6.256831</td>\n",
       "      <td>12.559199</td>\n",
       "      <td>188.644809</td>\n",
       "      <td>195.391621</td>\n",
       "    </tr>\n",
       "    <tr>\n",
       "      <th>std</th>\n",
       "      <td>243.496090</td>\n",
       "      <td>8.204711</td>\n",
       "      <td>6.092472</td>\n",
       "      <td>16.005380</td>\n",
       "      <td>33.985755</td>\n",
       "      <td>7.658813</td>\n",
       "      <td>4.540525</td>\n",
       "      <td>33.148027</td>\n",
       "      <td>7.836031</td>\n",
       "      <td>2.586894</td>\n",
       "      <td>14.253004</td>\n",
       "      <td>31.097749</td>\n",
       "      <td>175.863156</td>\n",
       "      <td>32.126407</td>\n",
       "      <td>7.257656</td>\n",
       "      <td>4.824433</td>\n",
       "      <td>8.960510</td>\n",
       "      <td>5.936977</td>\n",
       "      <td>7.330419</td>\n",
       "    </tr>\n",
       "    <tr>\n",
       "      <th>min</th>\n",
       "      <td>0.000000</td>\n",
       "      <td>78.000000</td>\n",
       "      <td>33.000000</td>\n",
       "      <td>42.000000</td>\n",
       "      <td>104.000000</td>\n",
       "      <td>47.000000</td>\n",
       "      <td>2.000000</td>\n",
       "      <td>114.000000</td>\n",
       "      <td>26.000000</td>\n",
       "      <td>17.000000</td>\n",
       "      <td>118.000000</td>\n",
       "      <td>131.000000</td>\n",
       "      <td>191.000000</td>\n",
       "      <td>109.000000</td>\n",
       "      <td>59.000000</td>\n",
       "      <td>0.000000</td>\n",
       "      <td>0.000000</td>\n",
       "      <td>176.000000</td>\n",
       "      <td>182.000000</td>\n",
       "    </tr>\n",
       "    <tr>\n",
       "      <th>25%</th>\n",
       "      <td>207.000000</td>\n",
       "      <td>87.000000</td>\n",
       "      <td>40.000000</td>\n",
       "      <td>70.000000</td>\n",
       "      <td>140.000000</td>\n",
       "      <td>57.000000</td>\n",
       "      <td>7.000000</td>\n",
       "      <td>145.000000</td>\n",
       "      <td>33.000000</td>\n",
       "      <td>19.000000</td>\n",
       "      <td>137.000000</td>\n",
       "      <td>167.000000</td>\n",
       "      <td>314.000000</td>\n",
       "      <td>150.000000</td>\n",
       "      <td>67.000000</td>\n",
       "      <td>2.000000</td>\n",
       "      <td>6.000000</td>\n",
       "      <td>184.000000</td>\n",
       "      <td>190.000000</td>\n",
       "    </tr>\n",
       "    <tr>\n",
       "      <th>50%</th>\n",
       "      <td>401.000000</td>\n",
       "      <td>93.000000</td>\n",
       "      <td>44.000000</td>\n",
       "      <td>78.000000</td>\n",
       "      <td>164.000000</td>\n",
       "      <td>61.000000</td>\n",
       "      <td>8.000000</td>\n",
       "      <td>156.000000</td>\n",
       "      <td>43.000000</td>\n",
       "      <td>19.000000</td>\n",
       "      <td>146.000000</td>\n",
       "      <td>176.000000</td>\n",
       "      <td>358.000000</td>\n",
       "      <td>173.000000</td>\n",
       "      <td>72.000000</td>\n",
       "      <td>6.000000</td>\n",
       "      <td>11.000000</td>\n",
       "      <td>188.000000</td>\n",
       "      <td>196.000000</td>\n",
       "    </tr>\n",
       "    <tr>\n",
       "      <th>75%</th>\n",
       "      <td>628.000000</td>\n",
       "      <td>100.000000</td>\n",
       "      <td>49.000000</td>\n",
       "      <td>98.000000</td>\n",
       "      <td>195.000000</td>\n",
       "      <td>65.000000</td>\n",
       "      <td>10.000000</td>\n",
       "      <td>198.000000</td>\n",
       "      <td>46.000000</td>\n",
       "      <td>23.000000</td>\n",
       "      <td>159.000000</td>\n",
       "      <td>216.000000</td>\n",
       "      <td>584.000000</td>\n",
       "      <td>198.000000</td>\n",
       "      <td>75.000000</td>\n",
       "      <td>9.000000</td>\n",
       "      <td>18.000000</td>\n",
       "      <td>193.000000</td>\n",
       "      <td>201.000000</td>\n",
       "    </tr>\n",
       "    <tr>\n",
       "      <th>max</th>\n",
       "      <td>845.000000</td>\n",
       "      <td>119.000000</td>\n",
       "      <td>59.000000</td>\n",
       "      <td>112.000000</td>\n",
       "      <td>322.000000</td>\n",
       "      <td>133.000000</td>\n",
       "      <td>55.000000</td>\n",
       "      <td>262.000000</td>\n",
       "      <td>59.000000</td>\n",
       "      <td>28.000000</td>\n",
       "      <td>188.000000</td>\n",
       "      <td>288.000000</td>\n",
       "      <td>998.000000</td>\n",
       "      <td>268.000000</td>\n",
       "      <td>127.000000</td>\n",
       "      <td>22.000000</td>\n",
       "      <td>39.000000</td>\n",
       "      <td>204.000000</td>\n",
       "      <td>210.000000</td>\n",
       "    </tr>\n",
       "  </tbody>\n",
       "</table>\n",
       "</div>"
      ],
      "text/plain": [
       "               0           1           2           3           4           5   \\\n",
       "count  549.000000  549.000000  549.000000  549.000000  549.000000  549.000000   \n",
       "mean   415.967213   93.550091   44.757741   81.721311  167.867031   61.573770   \n",
       "std    243.496090    8.204711    6.092472   16.005380   33.985755    7.658813   \n",
       "min      0.000000   78.000000   33.000000   42.000000  104.000000   47.000000   \n",
       "25%    207.000000   87.000000   40.000000   70.000000  140.000000   57.000000   \n",
       "50%    401.000000   93.000000   44.000000   78.000000  164.000000   61.000000   \n",
       "75%    628.000000  100.000000   49.000000   98.000000  195.000000   65.000000   \n",
       "max    845.000000  119.000000   59.000000  112.000000  322.000000  133.000000   \n",
       "\n",
       "               6           7           8           9           10          11  \\\n",
       "count  549.000000  549.000000  549.000000  549.000000  549.000000  549.000000   \n",
       "mean     8.551913  167.823315   41.185792   20.506375  147.734062  187.612022   \n",
       "std      4.540525   33.148027    7.836031    2.586894   14.253004   31.097749   \n",
       "min      2.000000  114.000000   26.000000   17.000000  118.000000  131.000000   \n",
       "25%      7.000000  145.000000   33.000000   19.000000  137.000000  167.000000   \n",
       "50%      8.000000  156.000000   43.000000   19.000000  146.000000  176.000000   \n",
       "75%     10.000000  198.000000   46.000000   23.000000  159.000000  216.000000   \n",
       "max     55.000000  262.000000   59.000000   28.000000  188.000000  288.000000   \n",
       "\n",
       "               12          13          14          15          16          17  \\\n",
       "count  549.000000  549.000000  549.000000  549.000000  549.000000  549.000000   \n",
       "mean   434.617486  174.424408   72.515483    6.256831   12.559199  188.644809   \n",
       "std    175.863156   32.126407    7.257656    4.824433    8.960510    5.936977   \n",
       "min    191.000000  109.000000   59.000000    0.000000    0.000000  176.000000   \n",
       "25%    314.000000  150.000000   67.000000    2.000000    6.000000  184.000000   \n",
       "50%    358.000000  173.000000   72.000000    6.000000   11.000000  188.000000   \n",
       "75%    584.000000  198.000000   75.000000    9.000000   18.000000  193.000000   \n",
       "max    998.000000  268.000000  127.000000   22.000000   39.000000  204.000000   \n",
       "\n",
       "               18  \n",
       "count  549.000000  \n",
       "mean   195.391621  \n",
       "std      7.330419  \n",
       "min    182.000000  \n",
       "25%    190.000000  \n",
       "50%    196.000000  \n",
       "75%    201.000000  \n",
       "max    210.000000  "
      ]
     },
     "execution_count": 3,
     "metadata": {},
     "output_type": "execute_result"
    }
   ],
   "source": [
    "X_train_pd.describe()"
   ]
  },
  {
   "cell_type": "code",
   "execution_count": 4,
   "metadata": {},
   "outputs": [
    {
     "name": "stdout",
     "output_type": "stream",
     "text": [
      "<class 'pandas.core.frame.DataFrame'>\n",
      "RangeIndex: 549 entries, 0 to 548\n",
      "Data columns (total 19 columns):\n",
      "0     549 non-null int64\n",
      "1     549 non-null int64\n",
      "2     549 non-null int64\n",
      "3     549 non-null int64\n",
      "4     549 non-null int64\n",
      "5     549 non-null int64\n",
      "6     549 non-null int64\n",
      "7     549 non-null int64\n",
      "8     549 non-null int64\n",
      "9     549 non-null int64\n",
      "10    549 non-null int64\n",
      "11    549 non-null int64\n",
      "12    549 non-null int64\n",
      "13    549 non-null int64\n",
      "14    549 non-null int64\n",
      "15    549 non-null int64\n",
      "16    549 non-null int64\n",
      "17    549 non-null int64\n",
      "18    549 non-null int64\n",
      "dtypes: int64(19)\n",
      "memory usage: 81.6 KB\n"
     ]
    }
   ],
   "source": [
    "X_train_pd.info()"
   ]
  },
  {
   "cell_type": "markdown",
   "metadata": {
    "nbgrader": {
     "grade": false,
     "grade_id": "cell-be844269be69c387",
     "locked": true,
     "schema_version": 2,
     "solution": false
    }
   },
   "source": [
    "### 2. Работа с данными, построение модели, анализ ошибки.\n",
    "Выполните следующие манипуляции с данными:"
   ]
  },
  {
   "cell_type": "markdown",
   "metadata": {},
   "source": [
    "#### 2.0. Предобработка данных.\n",
    "* Произведите необходимые (по вашему мнению) манипуляции с данными и объясните их."
   ]
  },
  {
   "cell_type": "code",
   "execution_count": 5,
   "metadata": {},
   "outputs": [],
   "source": [
    "import warnings\n",
    "warnings.filterwarnings('ignore')"
   ]
  },
  {
   "cell_type": "code",
   "execution_count": 6,
   "metadata": {
    "nbgrader": {
     "grade": true,
     "grade_id": "cell-a1514aa189a49fca",
     "locked": false,
     "points": 15,
     "schema_version": 2,
     "solution": true
    }
   },
   "outputs": [],
   "source": [
    "from sklearn.ensemble import IsolationForest\n",
    "from sklearn.preprocessing import StandardScaler\n",
    "\n",
    "# избавляемся от потенциальных выбросов\n",
    "inliers = IsolationForest().fit_predict(X_train) == 1\n",
    "X_train, y_train = X_train[inliers], y_train[inliers]\n",
    "\n",
    "# скалируем выборку\n",
    "scaler = StandardScaler()\n",
    "X_train = scaler.fit_transform(X_train)\n",
    "X_test = scaler.transform(X_test)"
   ]
  },
  {
   "cell_type": "markdown",
   "metadata": {},
   "source": [
    "#### 2.1. Базовая логистическая регрессия.\n",
    "* Подберите оптимальные параметры логистической регресии с помощью кросс-валидации на train-датасете (е переусердствуйте с подбором, в данной работе не стоит задача найти самую оптимальную модель. Небольшого grid/random search'а хватит).\n",
    "\n",
    "* Постройте график ROC-кривой для данного классификатора (`sklearn.metrics.roc_curve`), оцените точность классификации и f1-score. "
   ]
  },
  {
   "cell_type": "code",
   "execution_count": 7,
   "metadata": {},
   "outputs": [],
   "source": [
    "from sklearn.model_selection import GridSearchCV, StratifiedKFold\n",
    "\n",
    "def _key_for_param(param):\n",
    "    return 'param_{}'.format(param)\n",
    "\n",
    "def _plot_group(ax, group, change, title=None):\n",
    "    ax.plot(group[_key_for_param(change)], group['mean_test_score'])\n",
    "    ax.set_xlabel(change)\n",
    "    ax.set_ylabel('mean test score')\n",
    "    ax.set_title(title)\n",
    "    ax.grid()\n",
    "    \n",
    "\n",
    "def _plot_one_param(grid_res, change):\n",
    "    fig = plt.figure(figsize=(5, 5))\n",
    "    ax = fig.gca()\n",
    "    _plot_group(ax, grid_res, change)\n",
    "    fig.show()\n",
    "    \n",
    "def _plot_two_params(grid_res, change, params):\n",
    "    other = [param for param in params.keys() if param != change][0]\n",
    "    grouped = grid_res.groupby([_key_for_param(other)])\n",
    "    n = len(grouped)\n",
    "    \n",
    "    fig, axs = plt.subplots(n, figsize=(5, 5 * n))\n",
    "    for ax, (index, group) in zip(axs, grouped):\n",
    "        _plot_group(ax, group, change, '{} = {}'.format(other, index))\n",
    "        \n",
    "    fig.show()\n",
    "\n",
    "def plot_grid_res(grid_res, params, change):\n",
    "    if len(params) == 1:\n",
    "        _plot_one_param(grid_res, change)\n",
    "    elif len(params) == 2:\n",
    "        _plot_two_params(grid_res, change, params)\n",
    "    else:\n",
    "        return # don't handle such cases\n",
    "\n",
    "def grid_search(X, y, model, params, change):\n",
    "    grid = GridSearchCV(estimator=model, \n",
    "                        param_grid=params, \n",
    "                        scoring='precision_macro', \n",
    "                        cv=StratifiedKFold(n_splits=5, random_state=42))\n",
    "    grid.fit(X, y)\n",
    "    plot_grid_res(pd.DataFrame(grid.cv_results_), params, change)\n",
    "    return grid.best_params_"
   ]
  },
  {
   "cell_type": "code",
   "execution_count": 8,
   "metadata": {
    "nbgrader": {
     "grade": true,
     "grade_id": "cell-1dd5ad5d0845cbbb",
     "locked": false,
     "points": 5,
     "schema_version": 2,
     "solution": true
    },
    "scrolled": false
   },
   "outputs": [],
   "source": [
    "from sklearn.linear_model import LogisticRegression\n",
    "\n",
    "import matplotlib.pyplot as plt\n",
    "\n",
    "lr = LogisticRegression(random_state=42)\n",
    "params = {\n",
    "    'penalty': ['l1', 'l2'],\n",
    "    'C': np.linspace(0.01, 1, num=10)\n",
    "}\n",
    "lr_best_params = grid_search(X_train, y_train, lr, params, 'C')"
   ]
  },
  {
   "cell_type": "code",
   "execution_count": null,
   "metadata": {
    "scrolled": false
   },
   "outputs": [],
   "source": [
    "from sklearn.metrics import roc_curve, precision_score, f1_score\n",
    "from sklearn.multiclass import OneVsRestClassifier\n",
    "from sklearn.preprocessing import LabelBinarizer\n",
    "\n",
    "def eval_metrics(y_true, y_pred):\n",
    "    print('precision = {}, f1 = {}'.format(precision_score(y_true, y_pred, average='macro'), \n",
    "                                           f1_score(y_true, y_pred, average='macro')))\n",
    "\n",
    "def plot_roc_curve(X_train, X_test, y_train, y_test, estimator):\n",
    "    lb = LabelBinarizer()\n",
    "    y_train_lb = lb.fit_transform(y_train)\n",
    "    y_test_lb = lb.transform(y_test)\n",
    "\n",
    "    n_classes = y_train_lb.shape[1]\n",
    "    model = OneVsRestClassifier(estimator)\n",
    "    y_score_lb = model.fit(X_train, y_train_lb).decision_function(X_test)\n",
    "    y_pred_lb = model.predict(X_test)\n",
    "    eval_metrics(y_test_lb, y_pred_lb)\n",
    "\n",
    "    fig, axs = plt.subplots(n_classes, figsize=(5, 5 * n_classes))\n",
    "    for ax, test, score in zip(axs, y_test_lb.T, y_score_lb.T):\n",
    "        fpr, tpr, _ = roc_curve(test, score)\n",
    "        ax.plot(fpr, tpr)\n",
    "        ax.set_xlabel('fpr')\n",
    "        ax.set_ylabel('tpr')\n",
    "        ax.grid()\n",
    "\n",
    "    fig.show()"
   ]
  },
  {
   "cell_type": "code",
   "execution_count": null,
   "metadata": {},
   "outputs": [
    {
     "name": "stdout",
     "output_type": "stream",
     "text": [
      "precision = 0.7179165285906219, f1 = 0.6989816614666338\n"
     ]
    },
    {
     "data": {
      "image/png": "[encoded data removed]",
      "text/plain": [
       "<Figure size 360x1440 with 4 Axes>"
      ]
     },
     "metadata": {
      "needs_background": "light"
     },
     "output_type": "display_data"
    }
   ],
   "source": [
    "plot_roc_curve(X_train, X_test, y_train, y_test, LogisticRegression(**lr_best_params, random_state=42))"
   ]
  },
  {
   "cell_type": "markdown",
   "metadata": {},
   "source": [
    "#### 2.2. Зависимость объясненной дисперсии от числа главных компонент.\n",
    "Воспользуемся методом главных компонент (PCA). \n",
    "\n",
    "Примените его к train-части данных.\n",
    "Постройте график зависимости объясненной дисперсии (explained variance ratio) от количества главных компонент."
   ]
  },
  {
   "cell_type": "code",
   "execution_count": null,
   "metadata": {
    "nbgrader": {
     "grade": true,
     "grade_id": "cell-c6c614740bce090e",
     "locked": false,
     "points": 10,
     "schema_version": 2,
     "solution": true
    }
   },
   "outputs": [
    {
     "data": {
      "image/png": "[encoded data removed]",
      "text/plain": [
       "<Figure size 360x360 with 1 Axes>"
      ]
     },
     "metadata": {
      "needs_background": "light"
     },
     "output_type": "display_data"
    }
   ],
   "source": [
    "from sklearn.decomposition import PCA\n",
    "\n",
    "pca = PCA(random_state=42).fit(X_train)\n",
    "var = pca.explained_variance_ratio_\n",
    "\n",
    "fig = plt.figure(figsize=(5,5))\n",
    "ax = fig.gca()\n",
    "\n",
    "ax.plot([sum(var[:i]) for i in range(len(var))])\n",
    "ax.set_ylabel('explained variance')\n",
    "ax.set_xlabel('n_components')\n",
    "ax.grid()\n",
    "\n",
    "fig.show()"
   ]
  },
  {
   "cell_type": "markdown",
   "metadata": {
    "nbgrader": {
     "grade": false,
     "grade_id": "cell-0c1fe666f52fe53c",
     "locked": true,
     "schema_version": 2,
     "solution": false
    }
   },
   "source": [
    "#### 2.3. Преобразование с помощью PCA.\n",
    "Выберите определенное число компонент. Кратко опишите, чем обусловлен ваш выбор.\n",
    "\n",
    "Используя эти главные компоненты, преобразуйте train и test выборки (используя методы `fit` и `transform`)."
   ]
  },
  {
   "cell_type": "code",
   "execution_count": null,
   "metadata": {
    "nbgrader": {
     "grade": true,
     "grade_id": "cell-96ab18d96473ef71",
     "locked": false,
     "points": 5,
     "schema_version": 2,
     "solution": true
    }
   },
   "outputs": [],
   "source": [
    "n_components = 13\n",
    "model = PCA(n_components=n_components, random_state=42)\n",
    "X_train_pca = pca.fit_transform(X_train)\n",
    "X_test_pca = pca.transform(X_test)"
   ]
  },
  {
   "cell_type": "markdown",
   "metadata": {
    "nbgrader": {
     "grade": false,
     "grade_id": "cell-d28b58a35c94e988",
     "locked": true,
     "schema_version": 2,
     "solution": false
    }
   },
   "source": [
    "#### 2.4. Логистическая регрессия над преобразованными данными.\n",
    "* Подберите оптимальные параметры логистической регресии с помощью кросс-валидации на преобразованном train-датасете.\n",
    "\n",
    "* Постройте график ROC-кривой для полученных классификаторов, оцените точность классификации и f1-score. "
   ]
  },
  {
   "cell_type": "code",
   "execution_count": null,
   "metadata": {},
   "outputs": [
    {
     "data": {
      "image/png": "[encoded data removed]",
      "text/plain": [
       "<Figure size 360x720 with 2 Axes>"
      ]
     },
     "metadata": {
      "needs_background": "light"
     },
     "output_type": "display_data"
    }
   ],
   "source": [
    "model_pca = LogisticRegression(random_state=42)\n",
    "params_pca = {\n",
    "    'penalty': ['l1', 'l2'],\n",
    "    'C': np.linspace(0.01, 1, num=10)\n",
    "}\n",
    "lr_best_params_pca = grid_search(X_train_pca, y_train, model_pca, params, 'C')"
   ]
  },
  {
   "cell_type": "code",
   "execution_count": null,
   "metadata": {
    "scrolled": false
   },
   "outputs": [
    {
     "name": "stdout",
     "output_type": "stream",
     "text": [
      "precision = 0.7160998199193083, f1 = 0.6934414285556414\n"
     ]
    },
    {
     "data": {
      "image/png": "[encoded data removed]",
      "text/plain": [
       "<Figure size 360x1440 with 4 Axes>"
      ]
     },
     "metadata": {
      "needs_background": "light"
     },
     "output_type": "display_data"
    }
   ],
   "source": [
    "plot_roc_curve(X_train_pca, X_test_pca, y_train, y_test, LogisticRegression(**lr_best_params_pca, random_state=42))"
   ]
  },
  {
   "cell_type": "markdown",
   "metadata": {
    "nbgrader": {
     "grade": false,
     "grade_id": "cell-4fbf16c64076e139",
     "locked": true,
     "schema_version": 2,
     "solution": false
    }
   },
   "source": [
    "#### 2.5. Решающее дерево.\n",
    "Рассмотрим поведение решающего дерева на исходных и преобразованных данных. Будем варьировать лишь один параметр - максимальную глубину дерева. \n",
    "\n",
    "* С помощью кросс-валидации подберите оптимальный параметр `max_depth` и оцените на исходных и преобразованных данных те же метрики, что и выше."
   ]
  },
  {
   "cell_type": "code",
   "execution_count": null,
   "metadata": {
    "nbgrader": {
     "grade": true,
     "grade_id": "cell-748ed20b51c67fab",
     "locked": false,
     "points": 15,
     "schema_version": 2,
     "solution": true
    }
   },
   "outputs": [
    {
     "data": {
      "image/png": "[encoded data removed]",
      "text/plain": [
       "<Figure size 360x360 with 1 Axes>"
      ]
     },
     "metadata": {
      "needs_background": "light"
     },
     "output_type": "display_data"
    }
   ],
   "source": [
    "from sklearn.tree import DecisionTreeClassifier\n",
    "\n",
    "model = DecisionTreeClassifier()\n",
    "params = {\n",
    "    'max_depth': np.arange(1, 11),\n",
    "}\n",
    "dtc_best_params = grid_search(X_train, y_train, model, params, 'max_depth')"
   ]
  },
  {
   "cell_type": "markdown",
   "metadata": {
    "nbgrader": {
     "grade": false,
     "grade_id": "cell-9eadd4d8a03ae67a",
     "locked": true,
     "schema_version": 2,
     "solution": false
    }
   },
   "source": [
    "#### 2.6. Bagging.\n",
    "Перейдем к ансамблям. \n",
    "\n",
    "Для построения ансамбля воспользуемся Bagging'ом с числом алгоритмов от 2 до 50. В качестве первого семейства базовых алгоримтов будем использовать линейные модели (т.е. логистическую регрессию), в качестве второго - решающие деревья. \n",
    "\n",
    "*Пояснение: Будем строить ансамбль только из моделей из одного семейства, т.е. логистическая регрессия не смешивается с решающими деревьями.*\n",
    "\n",
    "Для этого можно сгенерировать с помощью метода bootstrap 50 подвыборок из `train` выборки (того же размера, что и исходная), обучить логистическую регрессию и решающее дерево с оптимальными параметрами из предыдущего пункта на каждой из подвыборок и затем усреднить предсказания k моделей.\n",
    "\n",
    "*Hint: в sklearn может найтись подходящая функция, которая облегчит вам реализацию данного пункта.*\n",
    "\n",
    "* Постройте график качества классификации и f1-score на `train` и `test` датасетах в зависимости от числа алгоритмов, вошедших в ансамбль.\n",
    "\n",
    "* Проанализируйте график. Какое количество моделей стоит использовать? Как вы думаете, являются ли параметры решающего дерева, подобранные в предыдущем пункте оптимальными в данном случае?"
   ]
  },
  {
   "cell_type": "code",
   "execution_count": null,
   "metadata": {
    "nbgrader": {
     "grade": true,
     "grade_id": "cell-8fc95a2b206bdae1",
     "locked": false,
     "points": 35,
     "schema_version": 2,
     "solution": true
    }
   },
   "outputs": [
    {
     "name": "stdout",
     "output_type": "stream",
     "text": [
      "precision = 0.7396157205312545, f1 = 0.7443600501210128\n"
     ]
    },
    {
     "data": {
      "image/png": "[encoded data removed]",
      "text/plain": [
       "<Figure size 360x360 with 1 Axes>"
      ]
     },
     "metadata": {
      "needs_background": "light"
     },
     "output_type": "display_data"
    }
   ],
   "source": [
    "from sklearn.ensemble import BaggingClassifier\n",
    "from sklearn.model_selection import cross_val_score\n",
    "\n",
    "model = BaggingClassifier(base_estimator=LogisticRegression(**lr_best_params))\n",
    "params = {\n",
    "    'n_estimators': np.arange(1, 51)\n",
    "}\n",
    "lr_bagging_best_params = grid_search(X_train, y_train, model, params, 'n_estimators')\n",
    "best_model = BaggingClassifier(base_estimator=LogisticRegression(**lr_best_params), **lr_bagging_best_params)\n",
    "best_model.fit(X_train, y_train)\n",
    "y_pred = best_model.predict(X_test)\n",
    "eval_metrics(y_test, y_pred)"
   ]
  },
  {
   "cell_type": "code",
   "execution_count": null,
   "metadata": {},
   "outputs": [],
   "source": [
    "model = BaggingClassifier(base_estimator=DecisionTreeClassifier(**dtc_best_params))\n",
    "params = {\n",
    "    'n_estimators': np.arange(1, 51)\n",
    "}\n",
    "dtc_bagging_best_params = grid_search(X_train, y_train, model, params, 'n_estimators')\n",
    "best_model = BaggingClassifier(base_estimator=DecisionTreeClassifier(**dtc_best_params), **dtc_bagging_best_params)\n",
    "best_model.fit(X_train, y_train)\n",
    "y_pred = best_model.predict(X_test)\n",
    "eval_metrics(y_test, y_pred)"
   ]
  },
  {
   "cell_type": "markdown",
   "metadata": {
    "nbgrader": {
     "grade": false,
     "grade_id": "cell-241b7691ab44cbfb",
     "locked": true,
     "schema_version": 2,
     "solution": false
    }
   },
   "source": [
    "#### 2.7. Random Forest.\n",
    "Теперь воспользуйтесь `sklearn`-реализацией алгоритма Random Forest. \n",
    "\n",
    "* Постройте аналогичные графики для него (изменяя число деревьев от 1 до 50). Остальные параметры можно оставить по умолчанию.\n",
    "\n",
    "* Проанализируйте полученные результаты. Каким получилось оптимальное число деревьев. Как оно соотносится с оптимальным числом деревьев и линейных моделей в bagging'е из предыдущего пункта?"
   ]
  },
  {
   "cell_type": "code",
   "execution_count": null,
   "metadata": {
    "nbgrader": {
     "grade": true,
     "grade_id": "cell-888755d0f3d91620",
     "locked": false,
     "points": 15,
     "schema_version": 2,
     "solution": true
    }
   },
   "outputs": [],
   "source": [
    "from sklearn.ensemble import RandomForestClassifier\n",
    "\n",
    "model = RandomForestClassifier()\n",
    "params = {\n",
    "    'n_estimators': np.arange(1, 51)\n",
    "}\n",
    "rfc_best_params = grid_search(X_train, y_train, model, params, 'n_estimators')\n",
    "best_model = RandomForestClassifier(**rfc_best_params)\n",
    "best_model.fit(X_train, y_train)\n",
    "y_pred = best_model.predict(X_test)\n",
    "eval_metrics(y_test, y_pred)"
   ]
  },
  {
   "cell_type": "markdown",
   "metadata": {
    "nbgrader": {
     "grade": false,
     "grade_id": "cell-99191c0852538d4d",
     "locked": true,
     "schema_version": 2,
     "solution": false
    }
   },
   "source": [
    "#### 2.8. Кривая обучения.\n",
    "* Поделите обучающую выборку на 10 примерно равных частей. Обучите логистическую регрессию (с оптимальными параметрами), решающее дерево (аналогично), бэггинг над логистическими регрессиями и решающими деревьями (с выбранными параметрами) и RandomForest (из предыдущего пункта) на одной, двух, трех и т.д. частях.\n",
    "\n",
    "* Постройти график f1-score и accuracy на `train` и `test` датасетах в зависимости от размера обучающей выборки.\n",
    "\n",
    "* Проанализируйте полученный график. Можно ли сделать из него какие-либо выводы? Если да - кратко опишите их."
   ]
  },
  {
   "cell_type": "code",
   "execution_count": null,
   "metadata": {
    "nbgrader": {
     "grade": true,
     "grade_id": "cell-e39bc7e7dff61ff9",
     "locked": false,
     "points": 15,
     "schema_version": 2,
     "solution": true
    }
   },
   "outputs": [],
   "source": [
    "import copy\n",
    "\n",
    "def precision_from_train_size(X_train, X_test, y_train, y_test, model):\n",
    "    precision, f1 = [], []\n",
    "    all_train = []\n",
    "    cv = StratifiedKFold(n_splits=10, random_state=42)\n",
    "    for train, test in cv.split(X_train, y_train):\n",
    "        all_train.extend(test) # test is stratified portion of 1/10 of data\n",
    "        model_copy = copy.deepcopy(model)\n",
    "        model_copy.fit(X_train[all_train], y_train[all_train])\n",
    "        y_pred = model_copy.predict(X_test)\n",
    "        precision.append(precision_score(y_test, y_pred, average='macro'))\n",
    "        f1.append(f1_score(y_test, y_pred, average='macro'))\n",
    "    \n",
    "    fig, axs = plt.subplots(1, 2, figsize=(10, 5))\n",
    "    for ax, metric, title in zip(axs, [precision, f1], ['precision', 'f1']):\n",
    "        ax.plot(metric)\n",
    "        ax.set_xlabel('part of dataset')\n",
    "        ax.set_ylabel('test score')\n",
    "        ax.set_title(title)\n",
    "        ax.grid()\n",
    "    \n",
    "    fig.show()"
   ]
  },
  {
   "cell_type": "code",
   "execution_count": null,
   "metadata": {},
   "outputs": [],
   "source": [
    "precision_from_train_size(X_train, X_test, y_train, y_test, LogisticRegression(**lr_best_params))"
   ]
  },
  {
   "cell_type": "code",
   "execution_count": null,
   "metadata": {},
   "outputs": [],
   "source": [
    "precision_from_train_size(X_train, X_test, y_train, y_test, DecisionTreeClassifier(**dtc_best_params))"
   ]
  },
  {
   "cell_type": "code",
   "execution_count": null,
   "metadata": {},
   "outputs": [],
   "source": [
    "precision_from_train_size(X_train, X_test, y_train, y_test, \n",
    "                          BaggingClassifier(base_estimator=LogisticRegression(**lr_best_params), \n",
    "                                            **lr_bagging_best_params))"
   ]
  },
  {
   "cell_type": "code",
   "execution_count": null,
   "metadata": {},
   "outputs": [],
   "source": [
    "precision_from_train_size(X_train, X_test, y_train, y_test,\n",
    "                          BaggingClassifier(base_estimator=DecisionTreeClassifier(**dtc_best_params), \n",
    "                                            **dtc_bagging_best_params))"
   ]
  },
  {
   "cell_type": "code",
   "execution_count": null,
   "metadata": {},
   "outputs": [],
   "source": [
    "precision_from_train_size(X_train, X_test, y_train, y_test,\n",
    "                          RandomForestClassifier(**rfc_best_params))"
   ]
  },
  {
   "cell_type": "markdown",
   "metadata": {
    "nbgrader": {
     "grade": false,
     "grade_id": "cell-71bd7c04299937c1",
     "locked": true,
     "schema_version": 2,
     "solution": false
    }
   },
   "source": [
    "Вторая часть задания про SVM ждет вас в соседнем ноутбуке."
   ]
  },
  {
   "cell_type": "code",
   "execution_count": null,
   "metadata": {},
   "outputs": [],
   "source": []
  }
 ],
 "metadata": {
  "celltoolbar": "Create Assignment",
  "kernelspec": {
   "display_name": "Python 3",
   "language": "python",
   "name": "python3"
  },
  "language_info": {
   "codemirror_mode": {
    "name": "ipython",
    "version": 3
   },
   "file_extension": ".py",
   "mimetype": "text/x-python",
   "name": "python",
   "nbconvert_exporter": "python",
   "pygments_lexer": "ipython3",
   "version": "3.7.3"
  },
  "toc": {
   "base_numbering": 1,
   "nav_menu": {},
   "number_sections": false,
   "sideBar": true,
   "skip_h1_title": false,
   "title_cell": "Table of Contents",
   "title_sidebar": "Contents",
   "toc_cell": false,
   "toc_position": {},
   "toc_section_display": true,
   "toc_window_display": false
  }
 },
 "nbformat": 4,
 "nbformat_minor": 2
}
